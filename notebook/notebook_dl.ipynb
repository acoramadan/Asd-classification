{
 "cells": [
  {
   "cell_type": "code",
   "execution_count": 1,
   "id": "48cc60f9",
   "metadata": {},
   "outputs": [
    {
     "name": "stderr",
     "output_type": "stream",
     "text": [
      "/hop/home/muhammad_mufli_ramadhan/tfid/lib/python3.8/site-packages/tqdm/auto.py:21: TqdmWarning: IProgress not found. Please update jupyter and ipywidgets. See https://ipywidgets.readthedocs.io/en/stable/user_install.html\n",
      "  from .autonotebook import tqdm as notebook_tqdm\n"
     ]
    }
   ],
   "source": [
    "import sys\n",
    "import numpy as np\n",
    "import pandas as pd\n",
    "import os\n",
    "sys.path.append('..')\n",
    "from model.bert.bert_textdataset import BertTextDataset\n",
    "from model.bert.bert_classfier import BertFCClassifier\n",
    "from model.bert.bert_embedder import BertEmbedder\n",
    "from model.bert.bert_evaluator import BertFCEvaluator\n",
    "from model.bert.bert_trainer import BertFCTrainer\n",
    "from nlp_pipeline.preprocess_text import TextPreprocessor\n",
    "from sklearn.model_selection import train_test_split"
   ]
  },
  {
   "cell_type": "code",
   "execution_count": 2,
   "id": "f7b3717e",
   "metadata": {},
   "outputs": [],
   "source": [
    "df = pd.read_csv('../data/features/1.csv', encoding='latin1')\n",
    "df = df[['transcription', 'label']]\n",
    "df.dropna(inplace=True)\n",
    "\n",
    "df = df[df['label'].isin(['ASD', 'NON ASD'])]"
   ]
  },
  {
   "cell_type": "code",
   "execution_count": 3,
   "id": "acd41ac8",
   "metadata": {},
   "outputs": [],
   "source": [
    "text_preprocessor = TextPreprocessor()\n",
    "df['clean_text'] = df['transcription'].apply(text_preprocessor.preprocess)"
   ]
  },
  {
   "cell_type": "code",
   "execution_count": 4,
   "id": "a0c3b9c4",
   "metadata": {},
   "outputs": [],
   "source": [
    "embedder = BertEmbedder()\n",
    "tokenizer = embedder.tokenizer\n",
    "dataset = BertTextDataset(df=df[['clean_text', 'label']], tokenizer=tokenizer)\n",
    "y = (df['label']== 'ASD').astype(int).values\n",
    "X = embedder.encode_series(df['clean_text'].tolist())"
   ]
  },
  {
   "cell_type": "code",
   "execution_count": 9,
   "id": "2fe2b746",
   "metadata": {},
   "outputs": [
    {
     "name": "stdout",
     "output_type": "stream",
     "text": [
      "(2854, 768) (2854,)\n"
     ]
    }
   ],
   "source": [
    "X_train, X_val, y_train, y_val = train_test_split(X, y, test_size=0.2, stratify=y, random_state=42)\n",
    "model = BertFCClassifier(input_dim=768, hidden_dim=128, dropout=0.3)\n",
    "\n",
    "trainer = BertFCTrainer(\n",
    "    model=model,\n",
    "    lr=2e-5,\n",
    "    batch_size=16,\n",
    "    epochs=20,\n",
    "    patience=3\n",
    ")\n",
    "print (X_train.shape, y_train.shape)"
   ]
  },
  {
   "cell_type": "code",
   "execution_count": 7,
   "id": "67439628",
   "metadata": {},
   "outputs": [
    {
     "name": "stdout",
     "output_type": "stream",
     "text": [
      "sudah di update\n",
      "Epoch 1/20, Train Loss: 71.0762, Val Loss: 0.4246\n",
      "Epoch 2/20, Train Loss: 70.6640, Val Loss: 0.4212\n",
      "Epoch 3/20, Train Loss: 70.2911, Val Loss: 0.4217\n",
      "Epoch 4/20, Train Loss: 70.0362, Val Loss: 0.4201\n",
      "Epoch 5/20, Train Loss: 70.0063, Val Loss: 0.4193\n",
      "Epoch 6/20, Train Loss: 69.6845, Val Loss: 0.4197\n",
      "Epoch 7/20, Train Loss: 69.2611, Val Loss: 0.4184\n",
      "Epoch 8/20, Train Loss: 68.5228, Val Loss: 0.4181\n",
      "Epoch 9/20, Train Loss: 68.5416, Val Loss: 0.4176\n",
      "Epoch 10/20, Train Loss: 68.2078, Val Loss: 0.4171\n",
      "Epoch 11/20, Train Loss: 68.1157, Val Loss: 0.4166\n",
      "Epoch 12/20, Train Loss: 67.6746, Val Loss: 0.4169\n",
      "Epoch 13/20, Train Loss: 67.2832, Val Loss: 0.4162\n",
      "Epoch 14/20, Train Loss: 67.3722, Val Loss: 0.4159\n",
      "Epoch 15/20, Train Loss: 66.8521, Val Loss: 0.4156\n",
      "Epoch 16/20, Train Loss: 67.0199, Val Loss: 0.4157\n",
      "Epoch 17/20, Train Loss: 66.1453, Val Loss: 0.4149\n",
      "Epoch 18/20, Train Loss: 67.1085, Val Loss: 0.4152\n",
      "Epoch 19/20, Train Loss: 65.3855, Val Loss: 0.4146\n",
      "Epoch 20/20, Train Loss: 65.5944, Val Loss: 0.4141\n",
      "              precision    recall  f1-score   support\n",
      "\n",
      "     NON ASD       0.86      0.85      0.85       465\n",
      "         ASD       0.73      0.73      0.73       249\n",
      "\n",
      "    accuracy                           0.81       714\n",
      "   macro avg       0.79      0.79      0.79       714\n",
      "weighted avg       0.81      0.81      0.81       714\n",
      "\n"
     ]
    }
   ],
   "source": [
    "trainer.train(\n",
    "    X_train=X_train,\n",
    "    y_train=y_train,\n",
    "    X_val=X_val,\n",
    "    y_val=y_val\n",
    ")\n",
    "trainer.evaluate(\n",
    "    X_test=X_val,\n",
    "    y_test=y_val\n",
    ")"
   ]
  },
  {
   "cell_type": "code",
   "execution_count": null,
   "id": "3ecf759d",
   "metadata": {},
   "outputs": [],
   "source": []
  }
 ],
 "metadata": {
  "kernelspec": {
   "display_name": "tfid",
   "language": "python",
   "name": "python3"
  },
  "language_info": {
   "codemirror_mode": {
    "name": "ipython",
    "version": 3
   },
   "file_extension": ".py",
   "mimetype": "text/x-python",
   "name": "python",
   "nbconvert_exporter": "python",
   "pygments_lexer": "ipython3",
   "version": "3.8.10"
  }
 },
 "nbformat": 4,
 "nbformat_minor": 5
}
