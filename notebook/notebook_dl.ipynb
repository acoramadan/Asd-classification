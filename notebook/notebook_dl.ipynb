{
 "cells": [
  {
   "cell_type": "code",
   "execution_count": 1,
   "id": "c0f0465d",
   "metadata": {},
   "outputs": [],
   "source": [
    "import sys\n",
    "import numpy as np\n",
    "import pandas as pd\n",
    "import os\n",
    "sys.path.append('..')\n",
    "from model.bert.bert_textdataset import BertTextDataset\n",
    "from model.bert.bert_classfier import BertFCClassifier\n",
    "from model.bert.bert_embedder import BertEmbedder\n",
    "from model.bert.bert_evaluator import BertFCEvaluator\n",
    "from model.bert.bert_trainer import BertFCTrainer\n",
    "from nlp_pipeline.preprocess_text import TextPreprocessor\n",
    "from sklearn.model_selection import train_test_split\n",
    "from nlp_pipeline.back_translator import BackTranslationAugmentor\n",
    "from nlp_pipeline.feature_extraction import FeatureExtractor\n",
    "from nlp_pipeline.embedding_oversample import EmbeddingOversampler"
   ]
  },
  {
   "cell_type": "code",
   "execution_count": 2,
   "id": "8ce9b418",
   "metadata": {},
   "outputs": [
    {
     "data": {
      "text/html": [
       "<div>\n",
       "<style scoped>\n",
       "    .dataframe tbody tr th:only-of-type {\n",
       "        vertical-align: middle;\n",
       "    }\n",
       "\n",
       "    .dataframe tbody tr th {\n",
       "        vertical-align: top;\n",
       "    }\n",
       "\n",
       "    .dataframe thead th {\n",
       "        text-align: right;\n",
       "    }\n",
       "</style>\n",
       "<table border=\"1\" class=\"dataframe\">\n",
       "  <thead>\n",
       "    <tr style=\"text-align: right;\">\n",
       "      <th></th>\n",
       "      <th>transcription</th>\n",
       "      <th>clean_text</th>\n",
       "    </tr>\n",
       "  </thead>\n",
       "  <tbody>\n",
       "    <tr>\n",
       "      <th>0</th>\n",
       "      <td>Tunjuk kaka coba</td>\n",
       "      <td>tunjuk kaka coba</td>\n",
       "    </tr>\n",
       "    <tr>\n",
       "      <th>1</th>\n",
       "      <td>Inii!</td>\n",
       "      <td>ini</td>\n",
       "    </tr>\n",
       "    <tr>\n",
       "      <th>2</th>\n",
       "      <td>Siapa namamu?</td>\n",
       "      <td>siapa nama</td>\n",
       "    </tr>\n",
       "    <tr>\n",
       "      <th>3</th>\n",
       "      <td>Iyaaaa?</td>\n",
       "      <td></td>\n",
       "    </tr>\n",
       "    <tr>\n",
       "      <th>4</th>\n",
       "      <td>Kenalan duluu!</td>\n",
       "      <td>kenal duluu</td>\n",
       "    </tr>\n",
       "  </tbody>\n",
       "</table>\n",
       "</div>"
      ],
      "text/plain": [
       "      transcription        clean_text\n",
       "0  Tunjuk kaka coba  tunjuk kaka coba\n",
       "1             Inii!               ini\n",
       "2     Siapa namamu?        siapa nama\n",
       "3           Iyaaaa?                  \n",
       "4    Kenalan duluu!       kenal duluu"
      ]
     },
     "execution_count": 2,
     "metadata": {},
     "output_type": "execute_result"
    }
   ],
   "source": [
    "df = df = pd.read_csv('../data/feature/combined_augmented_asd.csv', encoding='latin1')\n",
    "text_preprocessor = TextPreprocessor()\n",
    "df['clean_text'] = df['transcription'].apply(text_preprocessor.preprocess)\n",
    "df[['transcription', 'clean_text']].head()"
   ]
  },
  {
   "cell_type": "code",
   "execution_count": 3,
   "id": "a0c368b0",
   "metadata": {},
   "outputs": [
    {
     "data": {
      "application/vnd.jupyter.widget-view+json": {
       "model_id": "163a44c001e54c0c93bb1bc08be62bad",
       "version_major": 2,
       "version_minor": 0
      },
      "text/plain": [
       "tokenizer_config.json:   0%|          | 0.00/2.00 [00:00<?, ?B/s]"
      ]
     },
     "metadata": {},
     "output_type": "display_data"
    },
    {
     "data": {
      "application/vnd.jupyter.widget-view+json": {
       "model_id": "a442c50815c14109924b75c6197053fc",
       "version_major": 2,
       "version_minor": 0
      },
      "text/plain": [
       "config.json:   0%|          | 0.00/1.53k [00:00<?, ?B/s]"
      ]
     },
     "metadata": {},
     "output_type": "display_data"
    },
    {
     "data": {
      "application/vnd.jupyter.widget-view+json": {
       "model_id": "92878e2c66b34200ae8af10687feadd7",
       "version_major": 2,
       "version_minor": 0
      },
      "text/plain": [
       "tokenizer_config.json:   0%|          | 0.00/2.00 [00:00<?, ?B/s]"
      ]
     },
     "metadata": {},
     "output_type": "display_data"
    },
    {
     "data": {
      "application/vnd.jupyter.widget-view+json": {
       "model_id": "5bf179bdf8de40a48e5816d6809d57df",
       "version_major": 2,
       "version_minor": 0
      },
      "text/plain": [
       "vocab.txt:   0%|          | 0.00/229k [00:00<?, ?B/s]"
      ]
     },
     "metadata": {},
     "output_type": "display_data"
    },
    {
     "data": {
      "application/vnd.jupyter.widget-view+json": {
       "model_id": "54ad9f4e291e4c5da83ef1e2b343c735",
       "version_major": 2,
       "version_minor": 0
      },
      "text/plain": [
       "special_tokens_map.json:   0%|          | 0.00/112 [00:00<?, ?B/s]"
      ]
     },
     "metadata": {},
     "output_type": "display_data"
    },
    {
     "data": {
      "application/vnd.jupyter.widget-view+json": {
       "model_id": "2b2f4b487b894a39a87bb69be16183a8",
       "version_major": 2,
       "version_minor": 0
      },
      "text/plain": [
       "tokenizer_config.json:   0%|          | 0.00/2.00 [00:00<?, ?B/s]"
      ]
     },
     "metadata": {},
     "output_type": "display_data"
    },
    {
     "data": {
      "application/vnd.jupyter.widget-view+json": {
       "model_id": "c7a1e9f0207243658eccc4511e3b51bc",
       "version_major": 2,
       "version_minor": 0
      },
      "text/plain": [
       "config.json:   0%|          | 0.00/1.53k [00:00<?, ?B/s]"
      ]
     },
     "metadata": {},
     "output_type": "display_data"
    },
    {
     "data": {
      "application/vnd.jupyter.widget-view+json": {
       "model_id": "b652a74e9c2f44f78831590db43a73d2",
       "version_major": 2,
       "version_minor": 0
      },
      "text/plain": [
       "config.json:   0%|          | 0.00/1.53k [00:00<?, ?B/s]"
      ]
     },
     "metadata": {},
     "output_type": "display_data"
    },
    {
     "data": {
      "application/vnd.jupyter.widget-view+json": {
       "model_id": "ea78682d903d40a5b96896e08e34229d",
       "version_major": 2,
       "version_minor": 0
      },
      "text/plain": [
       "pytorch_model.bin:   0%|          | 0.00/498M [00:00<?, ?B/s]"
      ]
     },
     "metadata": {},
     "output_type": "display_data"
    },
    {
     "data": {
      "application/vnd.jupyter.widget-view+json": {
       "model_id": "4a27a08eeada4f80a000a24ec719750a",
       "version_major": 2,
       "version_minor": 0
      },
      "text/plain": [
       "model.safetensors:   0%|          | 0.00/498M [00:00<?, ?B/s]"
      ]
     },
     "metadata": {},
     "output_type": "display_data"
    },
    {
     "name": "stdout",
     "output_type": "stream",
     "text": [
      "{0: 4648, 1: 3732}\n",
      "Before Oversampling: Counter({0: 4648, 1: 3732})\n",
      "After Oversampling : Counter({0: 4648, 1: 4648})\n",
      "(9296, 768) (9296,)\n"
     ]
    }
   ],
   "source": [
    "extractor = FeatureExtractor()\n",
    "y = (df['label'].str.upper().str.strip() == 'ASD').astype(int).values\n",
    "X = extractor.encode_series_bert(df['clean_text'][:len(df['label'])])\n",
    "unique, counts = np.unique(y, return_counts=True)\n",
    "print(dict(zip(unique, counts)))\n",
    "\n",
    "ling_cols = extractor.linguistic_cols\n",
    "X_ling = df[ling_cols].values[:len(y)]\n",
    "\n",
    "oversampler = EmbeddingOversampler()\n",
    "X_embed_bal, X_ling_bal, y_bal = oversampler.oversample(X, X_ling, y)\n",
    "\n",
    "print(X_embed_bal.shape, y_bal.shape)"
   ]
  },
  {
   "cell_type": "code",
   "execution_count": 5,
   "id": "77d8ffc3",
   "metadata": {},
   "outputs": [
    {
     "name": "stdout",
     "output_type": "stream",
     "text": [
      "(7436, 768) (7436,)\n"
     ]
    }
   ],
   "source": [
    "X_train, X_val, y_train, y_val = train_test_split(X_embed_bal, y_bal, test_size=0.2, stratify=y_bal, random_state=42)\n",
    "model = BertFCClassifier(input_dim=768, hidden_dim=128, dropout=0.3)\n",
    "\n",
    "trainer = BertFCTrainer(\n",
    "    model=model,\n",
    "    lr=2e-5,\n",
    "    batch_size=16,\n",
    "    epochs=20,\n",
    "    patience=3\n",
    ")\n",
    "print (X_train.shape, y_train.shape)"
   ]
  },
  {
   "cell_type": "code",
   "execution_count": 6,
   "id": "4bbbabf4",
   "metadata": {},
   "outputs": [
    {
     "name": "stdout",
     "output_type": "stream",
     "text": [
      "sudah di update\n",
      "Epoch 1/20, Train Loss: 281.8739, Val Loss: 0.5478\n",
      "Epoch 2/20, Train Loss: 238.3306, Val Loss: 0.4957\n",
      "Epoch 3/20, Train Loss: 217.6688, Val Loss: 0.4651\n",
      "Epoch 4/20, Train Loss: 207.1474, Val Loss: 0.4477\n",
      "Epoch 5/20, Train Loss: 200.2890, Val Loss: 0.4358\n",
      "Epoch 6/20, Train Loss: 193.7885, Val Loss: 0.4257\n",
      "Epoch 7/20, Train Loss: 189.9683, Val Loss: 0.4190\n",
      "Epoch 8/20, Train Loss: 186.8127, Val Loss: 0.4142\n",
      "Epoch 9/20, Train Loss: 183.3509, Val Loss: 0.4093\n",
      "Epoch 10/20, Train Loss: 180.3725, Val Loss: 0.4053\n",
      "Epoch 11/20, Train Loss: 178.9800, Val Loss: 0.4031\n",
      "Epoch 12/20, Train Loss: 176.8720, Val Loss: 0.3978\n",
      "Epoch 13/20, Train Loss: 175.4824, Val Loss: 0.3958\n",
      "Epoch 14/20, Train Loss: 173.2166, Val Loss: 0.3916\n",
      "Epoch 15/20, Train Loss: 171.7455, Val Loss: 0.3877\n",
      "Epoch 16/20, Train Loss: 169.7259, Val Loss: 0.3863\n",
      "Epoch 17/20, Train Loss: 168.4914, Val Loss: 0.3827\n",
      "Epoch 18/20, Train Loss: 167.2040, Val Loss: 0.3820\n",
      "Epoch 19/20, Train Loss: 165.9503, Val Loss: 0.3783\n",
      "Epoch 20/20, Train Loss: 164.4975, Val Loss: 0.3753\n",
      "              precision    recall  f1-score   support\n",
      "\n",
      "     NON ASD       0.85      0.82      0.84       930\n",
      "         ASD       0.83      0.86      0.84       930\n",
      "\n",
      "    accuracy                           0.84      1860\n",
      "   macro avg       0.84      0.84      0.84      1860\n",
      "weighted avg       0.84      0.84      0.84      1860\n",
      "\n"
     ]
    }
   ],
   "source": [
    "trainer.train(\n",
    "    X_train=X_train,\n",
    "    y_train=y_train,\n",
    "    X_val=X_val,\n",
    "    y_val=y_val\n",
    ")\n",
    "trainer.evaluate(\n",
    "    X_test=X_val,\n",
    "    y_test=y_val\n",
    ")"
   ]
  }
 ],
 "metadata": {
  "kernelspec": {
   "display_name": "base",
   "language": "python",
   "name": "python3"
  },
  "language_info": {
   "codemirror_mode": {
    "name": "ipython",
    "version": 3
   },
   "file_extension": ".py",
   "mimetype": "text/x-python",
   "name": "python",
   "nbconvert_exporter": "python",
   "pygments_lexer": "ipython3",
   "version": "3.12.7"
  }
 },
 "nbformat": 4,
 "nbformat_minor": 5
}
