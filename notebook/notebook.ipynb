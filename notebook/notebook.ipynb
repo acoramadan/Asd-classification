{
 "cells": [
  {
   "cell_type": "code",
   "execution_count": 1,
   "id": "9bb99836",
   "metadata": {},
   "outputs": [
    {
     "name": "stdout",
     "output_type": "stream",
     "text": [
      "['/usr/lib/python38.zip', '/usr/lib/python3.8', '/usr/lib/python3.8/lib-dynload', '', '/hop/home/muhammad_mufli_ramadhan/tfid/lib/python3.8/site-packages', '..']\n"
     ]
    },
    {
     "name": "stderr",
     "output_type": "stream",
     "text": [
      "/hop/home/muhammad_mufli_ramadhan/tfid/lib/python3.8/site-packages/tqdm/auto.py:21: TqdmWarning: IProgress not found. Please update jupyter and ipywidgets. See https://ipywidgets.readthedocs.io/en/stable/user_install.html\n",
      "  from .autonotebook import tqdm as notebook_tqdm\n"
     ]
    }
   ],
   "source": [
    "import sys\n",
    "import numpy as np\n",
    "import pandas as pd\n",
    "import os\n",
    "sys.path.append('..')\n",
    "print(sys.path)\n",
    "from nlp_pipeline.feature_extraction import FeatureExtractor\n",
    "from nlp_pipeline.preprocess_text import TextPreprocessor\n",
    "from model.evaluate_model import ModelEvaluator\n",
    "from model.train_baseline import BaselineTrainer\n",
    "from interpretation.lime_interpreter import LimeTextInterpreter\n",
    "from interpretation.shap_interpreter import ShapInterpreter"
   ]
  },
  {
   "cell_type": "markdown",
   "id": "62c8d546",
   "metadata": {},
   "source": [
    "Load dataset"
   ]
  },
  {
   "cell_type": "code",
   "execution_count": 2,
   "id": "fa7b718c",
   "metadata": {},
   "outputs": [
    {
     "name": "stdout",
     "output_type": "stream",
     "text": [
      "Index(['interaction_control', 'target_of_utterance', 'seg_id', 'vid_id',\n",
      "       'start_time', 'end_time', 'speaker_id', 'role', 'label',\n",
      "       'transcription', 'duration', 'utterance_type', 'annotation',\n",
      "       'valid_segment', 'total_words', 'unique_words', 'num_sentences',\n",
      "       'stopwords', 'num_adjectives', 'num_nouns', 'num_verbs', 'num_adverbs',\n",
      "       'type_token_ratio', 'avg_words_per_sentence', 'soruce_file'],\n",
      "      dtype='object')\n"
     ]
    },
    {
     "data": {
      "text/plain": [
       "label\n",
       "NON ASD    2324\n",
       "ASD        1244\n",
       "Name: count, dtype: int64"
      ]
     },
     "execution_count": 2,
     "metadata": {},
     "output_type": "execute_result"
    }
   ],
   "source": [
    "df = pd.read_csv('../data/features/1.csv', encoding='latin1')\n",
    "print(df.columns)\n",
    "df['label'] = df['label'].astype(str)\n",
    "df['label'].value_counts()\n",
    "df['label'].value_counts()"
   ]
  },
  {
   "cell_type": "markdown",
   "id": "5151598b",
   "metadata": {},
   "source": [
    "Preprocessing text"
   ]
  },
  {
   "cell_type": "code",
   "execution_count": 3,
   "id": "22c7bd4c",
   "metadata": {},
   "outputs": [
    {
     "data": {
      "text/html": [
       "<div>\n",
       "<style scoped>\n",
       "    .dataframe tbody tr th:only-of-type {\n",
       "        vertical-align: middle;\n",
       "    }\n",
       "\n",
       "    .dataframe tbody tr th {\n",
       "        vertical-align: top;\n",
       "    }\n",
       "\n",
       "    .dataframe thead th {\n",
       "        text-align: right;\n",
       "    }\n",
       "</style>\n",
       "<table border=\"1\" class=\"dataframe\">\n",
       "  <thead>\n",
       "    <tr style=\"text-align: right;\">\n",
       "      <th></th>\n",
       "      <th>transcription</th>\n",
       "      <th>clean_text</th>\n",
       "    </tr>\n",
       "  </thead>\n",
       "  <tbody>\n",
       "    <tr>\n",
       "      <th>0</th>\n",
       "      <td>Tunjuk kaka coba</td>\n",
       "      <td>tunjuk kaka coba</td>\n",
       "    </tr>\n",
       "    <tr>\n",
       "      <th>1</th>\n",
       "      <td>Inii!</td>\n",
       "      <td>ini</td>\n",
       "    </tr>\n",
       "    <tr>\n",
       "      <th>2</th>\n",
       "      <td>Siapa namamu?</td>\n",
       "      <td>siapa nama</td>\n",
       "    </tr>\n",
       "    <tr>\n",
       "      <th>3</th>\n",
       "      <td>Iyaaaa?</td>\n",
       "      <td></td>\n",
       "    </tr>\n",
       "    <tr>\n",
       "      <th>4</th>\n",
       "      <td>Kenalan duluu!</td>\n",
       "      <td>kenal duluu</td>\n",
       "    </tr>\n",
       "  </tbody>\n",
       "</table>\n",
       "</div>"
      ],
      "text/plain": [
       "      transcription        clean_text\n",
       "0  Tunjuk kaka coba  tunjuk kaka coba\n",
       "1             Inii!               ini\n",
       "2     Siapa namamu?        siapa nama\n",
       "3           Iyaaaa?                  \n",
       "4    Kenalan duluu!       kenal duluu"
      ]
     },
     "execution_count": 3,
     "metadata": {},
     "output_type": "execute_result"
    }
   ],
   "source": [
    "text_preprocessor = TextPreprocessor()\n",
    "df['clean_text'] = df['transcription'].apply(text_preprocessor.preprocess)\n",
    "df[['transcription', 'clean_text']].head()"
   ]
  },
  {
   "cell_type": "markdown",
   "id": "56c1d86e",
   "metadata": {},
   "source": [
    "Ekstraksi fitur with TFIDF"
   ]
  },
  {
   "cell_type": "code",
   "execution_count": 6,
   "id": "95046e18",
   "metadata": {},
   "outputs": [
    {
     "name": "stdout",
     "output_type": "stream",
     "text": [
      "(3568, 4437) (3568,)\n"
     ]
    }
   ],
   "source": [
    "extractor = FeatureExtractor()\n",
    "X = extractor.fit_transform_tfidf(df['clean_text'])\n",
    "y = df['label'].values\n",
    "print(X.shape, y.shape)"
   ]
  },
  {
   "cell_type": "markdown",
   "id": "2bdeb2d6",
   "metadata": {},
   "source": [
    "Ekstraksi fitur with IndoBERT"
   ]
  },
  {
   "cell_type": "code",
   "execution_count": 4,
   "id": "8a2939d8",
   "metadata": {},
   "outputs": [
    {
     "name": "stdout",
     "output_type": "stream",
     "text": [
      "(3568, 768) (3568,)\n"
     ]
    }
   ],
   "source": [
    "extractor = FeatureExtractor()\n",
    "X = extractor.encode_series_bert(df['clean_text'])\n",
    "y = df['label'].values\n",
    "print(X.shape, y.shape)"
   ]
  },
  {
   "cell_type": "markdown",
   "id": "1b0ec845",
   "metadata": {},
   "source": [
    "SVC WITH 5 FOLD"
   ]
  },
  {
   "cell_type": "code",
   "execution_count": 5,
   "id": "7c5fa12a",
   "metadata": {},
   "outputs": [
    {
     "name": "stdout",
     "output_type": "stream",
     "text": [
      "\n",
      "Fold 1\n",
      "              precision    recall  f1-score   support\n",
      "\n",
      "         ASD      0.679     0.723     0.700       249\n",
      "     NON ASD      0.846     0.817     0.832       465\n",
      "\n",
      "    accuracy                          0.784       714\n",
      "   macro avg      0.763     0.770     0.766       714\n",
      "weighted avg      0.788     0.784     0.786       714\n",
      "\n",
      "Confusion Matrix:\n",
      " [[180  69]\n",
      " [ 85 380]]\n",
      "\n",
      "Fold 2\n",
      "              precision    recall  f1-score   support\n",
      "\n",
      "         ASD      0.701     0.715     0.708       249\n",
      "     NON ASD      0.846     0.837     0.841       465\n",
      "\n",
      "    accuracy                          0.794       714\n",
      "   macro avg      0.773     0.776     0.774       714\n",
      "weighted avg      0.795     0.794     0.795       714\n",
      "\n",
      "Confusion Matrix:\n",
      " [[178  71]\n",
      " [ 76 389]]\n",
      "\n",
      "Fold 3\n",
      "              precision    recall  f1-score   support\n",
      "\n",
      "         ASD      0.677     0.767     0.719       249\n",
      "     NON ASD      0.866     0.804     0.834       465\n",
      "\n",
      "    accuracy                          0.791       714\n",
      "   macro avg      0.772     0.786     0.777       714\n",
      "weighted avg      0.800     0.791     0.794       714\n",
      "\n",
      "Confusion Matrix:\n",
      " [[191  58]\n",
      " [ 91 374]]\n",
      "\n",
      "Fold 4\n",
      "              precision    recall  f1-score   support\n",
      "\n",
      "         ASD      0.698     0.698     0.698       248\n",
      "     NON ASD      0.839     0.839     0.839       465\n",
      "\n",
      "    accuracy                          0.790       713\n",
      "   macro avg      0.768     0.768     0.768       713\n",
      "weighted avg      0.790     0.790     0.790       713\n",
      "\n",
      "Confusion Matrix:\n",
      " [[173  75]\n",
      " [ 75 390]]\n",
      "\n",
      "Fold 5\n",
      "              precision    recall  f1-score   support\n",
      "\n",
      "         ASD      0.651     0.719     0.683       249\n",
      "     NON ASD      0.840     0.793     0.816       464\n",
      "\n",
      "    accuracy                          0.767       713\n",
      "   macro avg      0.746     0.756     0.750       713\n",
      "weighted avg      0.774     0.767     0.770       713\n",
      "\n",
      "Confusion Matrix:\n",
      " [[179  70]\n",
      " [ 96 368]]\n",
      "\n",
      "Mean Metrics:\n",
      "Accuracy : 0.7853\n",
      "Precision: 0.6812\n",
      "Recall   : 0.7243\n",
      "F1       : 0.7017\n"
     ]
    }
   ],
   "source": [
    "trainer = BaselineTrainer()\n",
    "\n",
    "evaluator = ModelEvaluator(model_type='svm')\n",
    "\n",
    "results = evaluator.cross_validate(X,y)"
   ]
  },
  {
   "cell_type": "code",
   "execution_count": null,
   "id": "cf2d372e",
   "metadata": {},
   "outputs": [],
   "source": [
    "final_model = trainer.train(X, y)\n",
    "\n",
    "lime_interpreter = LimeTextInterpreter(\n",
    "    model=final_model,\n",
    "    vectorizer=extractor.get_tfidf_vectorizer(),\n",
    "    class_names=['NON ASD', 'ASD']\n",
    ")\n",
    "\n",
    "asd_samples = df[df['label'] == 'ASD'].sample(n=12, random_state=42)\n",
    "non_asd_samples = df[df['label'] == 'NON ASD'].sample(n=12, random_state=42)\n",
    "lime_samples = pd.concat([asd_samples, non_asd_samples]).reset_index(drop=True)\n",
    "\n",
    "lime_interpreter.save_lime_explanation_to_csv(lime_samples,\"../reports/lime_results.csv\")"
   ]
  },
  {
   "cell_type": "code",
   "execution_count": 6,
   "id": "bb513db3",
   "metadata": {},
   "outputs": [
    {
     "name": "stderr",
     "output_type": "stream",
     "text": [
      "PartitionExplainer explainer: 101it [00:41,  2.15it/s]                         \n"
     ]
    },
    {
     "ename": "AttributeError",
     "evalue": "'ShapInterpreter' object has no attribute 'save_shap_explanation_to_csv'",
     "output_type": "error",
     "traceback": [
      "\u001b[0;31m---------------------------------------------------------------------------\u001b[0m",
      "\u001b[0;31mAttributeError\u001b[0m                            Traceback (most recent call last)",
      "Cell \u001b[0;32mIn[6], line 8\u001b[0m\n\u001b[1;32m      5\u001b[0m labels \u001b[38;5;241m=\u001b[39m sampled_df[\u001b[38;5;124m'\u001b[39m\u001b[38;5;124mlabel\u001b[39m\u001b[38;5;124m'\u001b[39m]\u001b[38;5;241m.\u001b[39mtolist()\n\u001b[1;32m      7\u001b[0m shap_values \u001b[38;5;241m=\u001b[39m interpreter\u001b[38;5;241m.\u001b[39mexplain(texts)\n\u001b[0;32m----> 8\u001b[0m \u001b[43minterpreter\u001b[49m\u001b[38;5;241;43m.\u001b[39;49m\u001b[43msave_shap_explanation_to_csv\u001b[49m(shap_values, texts, labels, \u001b[38;5;124m\"\u001b[39m\u001b[38;5;124m../reports/shap_results_SVM.csv\u001b[39m\u001b[38;5;124m\"\u001b[39m)\n",
      "\u001b[0;31mAttributeError\u001b[0m: 'ShapInterpreter' object has no attribute 'save_shap_explanation_to_csv'"
     ]
    }
   ],
   "source": [
    "final_model = BaselineTrainer('svm').train(X,y)\n",
    "interpreter = ShapInterpreter(model=final_model)\n",
    "sampled_df = df.sample(n=100, random_state=42)\n",
    "texts = sampled_df['clean_text'].tolist()\n",
    "labels = sampled_df['label'].tolist()\n",
    "\n",
    "shap_values = interpreter.explain(texts)\n",
    "interpreter.save_shap_explanation_to_csv(shap_values, texts, labels, \"../reports/shap_results_SVM.csv\")"
   ]
  },
  {
   "cell_type": "markdown",
   "id": "a33e7b83",
   "metadata": {},
   "source": [
    "LINEAR REGRETION WITH 5 FOLD"
   ]
  },
  {
   "cell_type": "code",
   "execution_count": 9,
   "id": "6f0cd2fb",
   "metadata": {},
   "outputs": [
    {
     "name": "stdout",
     "output_type": "stream",
     "text": [
      "\n",
      "Fold 1\n",
      "              precision    recall  f1-score   support\n",
      "\n",
      "         ASD      0.792     0.337     0.473       249\n",
      "     NON ASD      0.729     0.953     0.826       465\n",
      "\n",
      "    accuracy                          0.738       714\n",
      "   macro avg      0.761     0.645     0.649       714\n",
      "weighted avg      0.751     0.738     0.703       714\n",
      "\n",
      "Confusion Matrix:\n",
      " [[ 84 165]\n",
      " [ 22 443]]\n",
      "\n",
      "Fold 2\n",
      "              precision    recall  f1-score   support\n",
      "\n",
      "         ASD      0.783     0.289     0.422       249\n",
      "     NON ASD      0.715     0.957     0.819       465\n",
      "\n",
      "    accuracy                          0.724       714\n",
      "   macro avg      0.749     0.623     0.621       714\n",
      "weighted avg      0.739     0.724     0.680       714\n",
      "\n",
      "Confusion Matrix:\n",
      " [[ 72 177]\n",
      " [ 20 445]]\n",
      "\n",
      "Fold 3\n",
      "              precision    recall  f1-score   support\n",
      "\n",
      "         ASD      0.812     0.329     0.469       249\n",
      "     NON ASD      0.728     0.959     0.827       465\n",
      "\n",
      "    accuracy                          0.739       714\n",
      "   macro avg      0.770     0.644     0.648       714\n",
      "weighted avg      0.757     0.739     0.702       714\n",
      "\n",
      "Confusion Matrix:\n",
      " [[ 82 167]\n",
      " [ 19 446]]\n",
      "\n",
      "Fold 4\n",
      "              precision    recall  f1-score   support\n",
      "\n",
      "         ASD      0.764     0.327     0.458       248\n",
      "     NON ASD      0.725     0.946     0.821       465\n",
      "\n",
      "    accuracy                          0.731       713\n",
      "   macro avg      0.745     0.636     0.639       713\n",
      "weighted avg      0.739     0.731     0.695       713\n",
      "\n",
      "Confusion Matrix:\n",
      " [[ 81 167]\n",
      " [ 25 440]]\n",
      "\n",
      "Fold 5\n",
      "              precision    recall  f1-score   support\n",
      "\n",
      "         ASD      0.837     0.329     0.473       249\n",
      "     NON ASD      0.728     0.966     0.830       464\n",
      "\n",
      "    accuracy                          0.743       713\n",
      "   macro avg      0.783     0.647     0.652       713\n",
      "weighted avg      0.766     0.743     0.705       713\n",
      "\n",
      "Confusion Matrix:\n",
      " [[ 82 167]\n",
      " [ 16 448]]\n",
      "\n",
      "Mean Metrics:\n",
      "Accuracy : 0.7351\n",
      "Precision: 0.7976\n",
      "Recall   : 0.3224\n",
      "F1       : 0.4589\n"
     ]
    }
   ],
   "source": [
    "trainer = BaselineTrainer()\n",
    "evaluator = ModelEvaluator()\n",
    "\n",
    "results = evaluator.cross_validate(X,y)"
   ]
  },
  {
   "cell_type": "code",
   "execution_count": 10,
   "id": "dbf5bb6a",
   "metadata": {},
   "outputs": [
    {
     "name": "stdout",
     "output_type": "stream",
     "text": [
      "Berhasil menyimpan!\n"
     ]
    }
   ],
   "source": [
    "final_model = trainer.train(X, y)\n",
    "\n",
    "lime_interpreter = LimeTextInterpreter(\n",
    "    model=final_model,\n",
    "    vectorizer=extractor.get_tfidf_vectorizer(),\n",
    "    class_names=['NON ASD', 'ASD']\n",
    ")\n",
    "\n",
    "asd_samples = df[df['label'] == 'ASD'].sample(n=12, random_state=42)\n",
    "non_asd_samples = df[df['label'] == 'NON ASD'].sample(n=12, random_state=42)\n",
    "lime_samples = pd.concat([asd_samples, non_asd_samples]).reset_index(drop=True)\n",
    "\n",
    "lime_interpreter.save_lime_explanation_to_csv(lime_samples,\"../reports/lime_results_LOGRES.csv\")"
   ]
  },
  {
   "cell_type": "markdown",
   "id": "5fcfd065",
   "metadata": {},
   "source": [
    "SVM WITH 10 FOLD"
   ]
  },
  {
   "cell_type": "code",
   "execution_count": 11,
   "id": "59c1ca05",
   "metadata": {},
   "outputs": [
    {
     "name": "stdout",
     "output_type": "stream",
     "text": [
      "\n",
      "Fold 1\n",
      "              precision    recall  f1-score   support\n",
      "\n",
      "         ASD      0.683     0.798     0.736       124\n",
      "     NON ASD      0.882     0.803     0.840       233\n",
      "\n",
      "    accuracy                          0.801       357\n",
      "   macro avg      0.782     0.800     0.788       357\n",
      "weighted avg      0.813     0.801     0.804       357\n",
      "\n",
      "Confusion Matrix:\n",
      " [[ 99  25]\n",
      " [ 46 187]]\n",
      "\n",
      "Fold 2\n",
      "              precision    recall  f1-score   support\n",
      "\n",
      "         ASD      0.746     0.758     0.752       124\n",
      "     NON ASD      0.870     0.863     0.866       233\n",
      "\n",
      "    accuracy                          0.826       357\n",
      "   macro avg      0.808     0.810     0.809       357\n",
      "weighted avg      0.827     0.826     0.827       357\n",
      "\n",
      "Confusion Matrix:\n",
      " [[ 94  30]\n",
      " [ 32 201]]\n",
      "\n",
      "Fold 3\n",
      "              precision    recall  f1-score   support\n",
      "\n",
      "         ASD      0.689     0.677     0.683       124\n",
      "     NON ASD      0.830     0.837     0.833       233\n",
      "\n",
      "    accuracy                          0.782       357\n",
      "   macro avg      0.759     0.757     0.758       357\n",
      "weighted avg      0.781     0.782     0.781       357\n",
      "\n",
      "Confusion Matrix:\n",
      " [[ 84  40]\n",
      " [ 38 195]]\n",
      "\n",
      "Fold 4\n",
      "              precision    recall  f1-score   support\n",
      "\n",
      "         ASD      0.744     0.798     0.770       124\n",
      "     NON ASD      0.888     0.854     0.871       233\n",
      "\n",
      "    accuracy                          0.835       357\n",
      "   macro avg      0.816     0.826     0.821       357\n",
      "weighted avg      0.838     0.835     0.836       357\n",
      "\n",
      "Confusion Matrix:\n",
      " [[ 99  25]\n",
      " [ 34 199]]\n",
      "\n",
      "Fold 5\n",
      "              precision    recall  f1-score   support\n",
      "\n",
      "         ASD      0.708     0.816     0.758       125\n",
      "     NON ASD      0.892     0.819     0.854       232\n",
      "\n",
      "    accuracy                          0.818       357\n",
      "   macro avg      0.800     0.817     0.806       357\n",
      "weighted avg      0.828     0.818     0.820       357\n",
      "\n",
      "Confusion Matrix:\n",
      " [[102  23]\n",
      " [ 42 190]]\n",
      "\n",
      "Fold 6\n",
      "              precision    recall  f1-score   support\n",
      "\n",
      "         ASD      0.721     0.784     0.751       125\n",
      "     NON ASD      0.878     0.836     0.857       232\n",
      "\n",
      "    accuracy                          0.818       357\n",
      "   macro avg      0.799     0.810     0.804       357\n",
      "weighted avg      0.823     0.818     0.820       357\n",
      "\n",
      "Confusion Matrix:\n",
      " [[ 98  27]\n",
      " [ 38 194]]\n",
      "\n",
      "Fold 7\n",
      "              precision    recall  f1-score   support\n",
      "\n",
      "         ASD      0.695     0.784     0.737       125\n",
      "     NON ASD      0.875     0.815     0.844       232\n",
      "\n",
      "    accuracy                          0.804       357\n",
      "   macro avg      0.785     0.799     0.790       357\n",
      "weighted avg      0.812     0.804     0.806       357\n",
      "\n",
      "Confusion Matrix:\n",
      " [[ 98  27]\n",
      " [ 43 189]]\n",
      "\n",
      "Fold 8\n",
      "              precision    recall  f1-score   support\n",
      "\n",
      "         ASD      0.664     0.792     0.723       125\n",
      "     NON ASD      0.875     0.784     0.827       232\n",
      "\n",
      "    accuracy                          0.787       357\n",
      "   macro avg      0.770     0.788     0.775       357\n",
      "weighted avg      0.801     0.787     0.791       357\n",
      "\n",
      "Confusion Matrix:\n",
      " [[ 99  26]\n",
      " [ 50 182]]\n",
      "\n",
      "Fold 9\n",
      "              precision    recall  f1-score   support\n",
      "\n",
      "         ASD      0.671     0.774     0.719       124\n",
      "     NON ASD      0.869     0.797     0.831       232\n",
      "\n",
      "    accuracy                          0.789       356\n",
      "   macro avg      0.770     0.786     0.775       356\n",
      "weighted avg      0.800     0.789     0.792       356\n",
      "\n",
      "Confusion Matrix:\n",
      " [[ 96  28]\n",
      " [ 47 185]]\n",
      "\n",
      "Fold 10\n",
      "              precision    recall  f1-score   support\n",
      "\n",
      "         ASD      0.712     0.718     0.715       124\n",
      "     NON ASD      0.848     0.845     0.847       232\n",
      "\n",
      "    accuracy                          0.801       356\n",
      "   macro avg      0.780     0.781     0.781       356\n",
      "weighted avg      0.801     0.801     0.801       356\n",
      "\n",
      "Confusion Matrix:\n",
      " [[ 89  35]\n",
      " [ 36 196]]\n",
      "\n",
      "Mean Metrics:\n",
      "Accuracy : 0.8060\n",
      "Precision: 0.7033\n",
      "Recall   : 0.7700\n",
      "F1       : 0.7344\n"
     ]
    }
   ],
   "source": [
    "trainer = BaselineTrainer()\n",
    "evaluator = ModelEvaluator(model_type='svm', n_splits= 10, random_state=32)\n",
    "\n",
    "results = evaluator.cross_validate(X,y)"
   ]
  },
  {
   "cell_type": "code",
   "execution_count": 12,
   "id": "f5a547db",
   "metadata": {},
   "outputs": [
    {
     "name": "stdout",
     "output_type": "stream",
     "text": [
      "Berhasil menyimpan!\n"
     ]
    }
   ],
   "source": [
    "final_model = trainer.train(X, y)\n",
    "\n",
    "lime_interpreter = LimeTextInterpreter(\n",
    "    model=final_model,\n",
    "    vectorizer=extractor.get_tfidf_vectorizer(),\n",
    "    class_names=['NON ASD', 'ASD']\n",
    ")\n",
    "\n",
    "asd_samples = df[df['label'] == 'ASD'].sample(n=12, random_state=42)\n",
    "non_asd_samples = df[df['label'] == 'NON ASD'].sample(n=12, random_state=42)\n",
    "lime_samples = pd.concat([asd_samples, non_asd_samples]).reset_index(drop=True)\n",
    "\n",
    "lime_interpreter.save_lime_explanation_to_csv(lime_samples,\"../reports/lime_results_SVM10FOLD.csv\")"
   ]
  },
  {
   "cell_type": "markdown",
   "id": "ac0fb88c",
   "metadata": {},
   "source": [
    "LINEAR REGRETION WITH 10 FOLD"
   ]
  },
  {
   "cell_type": "code",
   "execution_count": 8,
   "id": "a98b0d88",
   "metadata": {},
   "outputs": [
    {
     "name": "stdout",
     "output_type": "stream",
     "text": [
      "\n",
      "Fold 1\n",
      "              precision    recall  f1-score   support\n",
      "\n",
      "         ASD      0.746     0.427     0.544       124\n",
      "     NON ASD      0.752     0.923     0.829       233\n",
      "\n",
      "    accuracy                          0.751       357\n",
      "   macro avg      0.749     0.675     0.686       357\n",
      "weighted avg      0.750     0.751     0.730       357\n",
      "\n",
      "Confusion Matrix:\n",
      " [[ 53  71]\n",
      " [ 18 215]]\n",
      "\n",
      "Fold 2\n",
      "              precision    recall  f1-score   support\n",
      "\n",
      "         ASD      0.717     0.306     0.429       124\n",
      "     NON ASD      0.717     0.936     0.812       233\n",
      "\n",
      "    accuracy                          0.717       357\n",
      "   macro avg      0.717     0.621     0.621       357\n",
      "weighted avg      0.717     0.717     0.679       357\n",
      "\n",
      "Confusion Matrix:\n",
      " [[ 38  86]\n",
      " [ 15 218]]\n",
      "\n",
      "Fold 3\n",
      "              precision    recall  f1-score   support\n",
      "\n",
      "         ASD      0.762     0.258     0.386       124\n",
      "     NON ASD      0.708     0.957     0.814       233\n",
      "\n",
      "    accuracy                          0.714       357\n",
      "   macro avg      0.735     0.608     0.600       357\n",
      "weighted avg      0.727     0.714     0.665       357\n",
      "\n",
      "Confusion Matrix:\n",
      " [[ 32  92]\n",
      " [ 10 223]]\n",
      "\n",
      "Fold 4\n",
      "              precision    recall  f1-score   support\n",
      "\n",
      "         ASD      0.759     0.331     0.461       124\n",
      "     NON ASD      0.726     0.944     0.821       233\n",
      "\n",
      "    accuracy                          0.731       357\n",
      "   macro avg      0.743     0.637     0.641       357\n",
      "weighted avg      0.738     0.731     0.696       357\n",
      "\n",
      "Confusion Matrix:\n",
      " [[ 41  83]\n",
      " [ 13 220]]\n",
      "\n",
      "Fold 5\n",
      "              precision    recall  f1-score   support\n",
      "\n",
      "         ASD      0.852     0.368     0.514       125\n",
      "     NON ASD      0.739     0.966     0.837       232\n",
      "\n",
      "    accuracy                          0.756       357\n",
      "   macro avg      0.796     0.667     0.676       357\n",
      "weighted avg      0.779     0.756     0.724       357\n",
      "\n",
      "Confusion Matrix:\n",
      " [[ 46  79]\n",
      " [  8 224]]\n",
      "\n",
      "Fold 6\n",
      "              precision    recall  f1-score   support\n",
      "\n",
      "         ASD      0.774     0.384     0.513       125\n",
      "     NON ASD      0.739     0.940     0.827       232\n",
      "\n",
      "    accuracy                          0.745       357\n",
      "   macro avg      0.757     0.662     0.670       357\n",
      "weighted avg      0.751     0.745     0.717       357\n",
      "\n",
      "Confusion Matrix:\n",
      " [[ 48  77]\n",
      " [ 14 218]]\n",
      "\n",
      "Fold 7\n",
      "              precision    recall  f1-score   support\n",
      "\n",
      "         ASD      0.913     0.336     0.491       125\n",
      "     NON ASD      0.733     0.983     0.840       232\n",
      "\n",
      "    accuracy                          0.756       357\n",
      "   macro avg      0.823     0.659     0.666       357\n",
      "weighted avg      0.796     0.756     0.718       357\n",
      "\n",
      "Confusion Matrix:\n",
      " [[ 42  83]\n",
      " [  4 228]]\n",
      "\n",
      "Fold 8\n",
      "              precision    recall  f1-score   support\n",
      "\n",
      "         ASD      0.820     0.328     0.469       125\n",
      "     NON ASD      0.726     0.961     0.827       232\n",
      "\n",
      "    accuracy                          0.739       357\n",
      "   macro avg      0.773     0.645     0.648       357\n",
      "weighted avg      0.759     0.739     0.702       357\n",
      "\n",
      "Confusion Matrix:\n",
      " [[ 41  84]\n",
      " [  9 223]]\n",
      "\n",
      "Fold 9\n",
      "              precision    recall  f1-score   support\n",
      "\n",
      "         ASD      0.782     0.347     0.480       124\n",
      "     NON ASD      0.731     0.948     0.826       232\n",
      "\n",
      "    accuracy                          0.739       356\n",
      "   macro avg      0.756     0.648     0.653       356\n",
      "weighted avg      0.749     0.739     0.705       356\n",
      "\n",
      "Confusion Matrix:\n",
      " [[ 43  81]\n",
      " [ 12 220]]\n",
      "\n",
      "Fold 10\n",
      "              precision    recall  f1-score   support\n",
      "\n",
      "         ASD      0.880     0.355     0.506       124\n",
      "     NON ASD      0.739     0.974     0.840       232\n",
      "\n",
      "    accuracy                          0.758       356\n",
      "   macro avg      0.809     0.664     0.673       356\n",
      "weighted avg      0.788     0.758     0.724       356\n",
      "\n",
      "Confusion Matrix:\n",
      " [[ 44  80]\n",
      " [  6 226]]\n",
      "\n",
      "Mean Metrics:\n",
      "Accuracy : 0.7408\n",
      "Precision: 0.8006\n",
      "Recall   : 0.3440\n",
      "F1       : 0.4793\n"
     ]
    }
   ],
   "source": [
    "trainer = BaselineTrainer()\n",
    "evaluator = ModelEvaluator(n_splits= 10, random_state=32)\n",
    "\n",
    "results = evaluator.cross_validate(X,y)"
   ]
  }
 ],
 "metadata": {
  "kernelspec": {
   "display_name": "tfid",
   "language": "python",
   "name": "python3"
  },
  "language_info": {
   "codemirror_mode": {
    "name": "ipython",
    "version": 3
   },
   "file_extension": ".py",
   "mimetype": "text/x-python",
   "name": "python",
   "nbconvert_exporter": "python",
   "pygments_lexer": "ipython3",
   "version": "3.8.10"
  }
 },
 "nbformat": 4,
 "nbformat_minor": 5
}
