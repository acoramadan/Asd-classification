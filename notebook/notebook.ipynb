{
 "cells": [
  {
   "cell_type": "code",
   "execution_count": 1,
   "id": "9bb99836",
   "metadata": {},
   "outputs": [
    {
     "name": "stdout",
     "output_type": "stream",
     "text": [
      "['/usr/lib/python38.zip', '/usr/lib/python3.8', '/usr/lib/python3.8/lib-dynload', '', '/hop/home/muhammad_mufli_ramadhan/tfid/lib/python3.8/site-packages', '..']\n"
     ]
    },
    {
     "name": "stderr",
     "output_type": "stream",
     "text": [
      "/hop/home/muhammad_mufli_ramadhan/tfid/lib/python3.8/site-packages/tqdm/auto.py:21: TqdmWarning: IProgress not found. Please update jupyter and ipywidgets. See https://ipywidgets.readthedocs.io/en/stable/user_install.html\n",
      "  from .autonotebook import tqdm as notebook_tqdm\n"
     ]
    }
   ],
   "source": [
    "import sys\n",
    "import numpy as np\n",
    "import pandas as pd\n",
    "import os\n",
    "sys.path.append('..')\n",
    "print(sys.path)\n",
    "from nlp_pipeline.feature_extraction import FeatureExtractor\n",
    "from nlp_pipeline.preprocess_text import TextPreprocessor\n",
    "from model.evaluate_model import ModelEvaluator\n",
    "from model.train_baseline import BaselineTrainer\n",
    "from interpretation.lime_interpreter import LimeTextInterpreter"
   ]
  },
  {
   "cell_type": "markdown",
   "id": "62c8d546",
   "metadata": {},
   "source": [
    "Load dataset"
   ]
  },
  {
   "cell_type": "code",
   "execution_count": 2,
   "id": "fa7b718c",
   "metadata": {},
   "outputs": [
    {
     "name": "stdout",
     "output_type": "stream",
     "text": [
      "Index(['interaction_control', 'target_of_utterance', 'seg_id', 'vid_id',\n",
      "       'start_time', 'end_time', 'speaker_id', 'role', 'label',\n",
      "       'transcription', 'duration', 'utterance_type', 'annotation',\n",
      "       'valid_segment', 'total_words', 'unique_words', 'num_sentences',\n",
      "       'stopwords', 'num_adjectives', 'num_nouns', 'num_verbs', 'num_adverbs',\n",
      "       'type_token_ratio', 'avg_words_per_sentence', 'soruce_file'],\n",
      "      dtype='object')\n"
     ]
    },
    {
     "data": {
      "text/plain": [
       "label\n",
       "NON ASD    2324\n",
       "ASD        1244\n",
       "Name: count, dtype: int64"
      ]
     },
     "execution_count": 2,
     "metadata": {},
     "output_type": "execute_result"
    }
   ],
   "source": [
    "df = pd.read_csv('../data/features/1.csv', encoding='latin1')\n",
    "print(df.columns)\n",
    "df['label'] = df['label'].astype(str)\n",
    "df['label'].value_counts()\n",
    "df['label'].value_counts()"
   ]
  },
  {
   "cell_type": "markdown",
   "id": "5151598b",
   "metadata": {},
   "source": [
    "Preprocessing text"
   ]
  },
  {
   "cell_type": "code",
   "execution_count": 3,
   "id": "22c7bd4c",
   "metadata": {},
   "outputs": [
    {
     "data": {
      "text/html": [
       "<div>\n",
       "<style scoped>\n",
       "    .dataframe tbody tr th:only-of-type {\n",
       "        vertical-align: middle;\n",
       "    }\n",
       "\n",
       "    .dataframe tbody tr th {\n",
       "        vertical-align: top;\n",
       "    }\n",
       "\n",
       "    .dataframe thead th {\n",
       "        text-align: right;\n",
       "    }\n",
       "</style>\n",
       "<table border=\"1\" class=\"dataframe\">\n",
       "  <thead>\n",
       "    <tr style=\"text-align: right;\">\n",
       "      <th></th>\n",
       "      <th>transcription</th>\n",
       "      <th>clean_text</th>\n",
       "    </tr>\n",
       "  </thead>\n",
       "  <tbody>\n",
       "    <tr>\n",
       "      <th>0</th>\n",
       "      <td>Tunjuk kaka coba</td>\n",
       "      <td>tunjuk kaka coba</td>\n",
       "    </tr>\n",
       "    <tr>\n",
       "      <th>1</th>\n",
       "      <td>Inii!</td>\n",
       "      <td>ini</td>\n",
       "    </tr>\n",
       "    <tr>\n",
       "      <th>2</th>\n",
       "      <td>Siapa namamu?</td>\n",
       "      <td>siapa nama</td>\n",
       "    </tr>\n",
       "    <tr>\n",
       "      <th>3</th>\n",
       "      <td>Iyaaaa?</td>\n",
       "      <td></td>\n",
       "    </tr>\n",
       "    <tr>\n",
       "      <th>4</th>\n",
       "      <td>Kenalan duluu!</td>\n",
       "      <td>kenal duluu</td>\n",
       "    </tr>\n",
       "  </tbody>\n",
       "</table>\n",
       "</div>"
      ],
      "text/plain": [
       "      transcription        clean_text\n",
       "0  Tunjuk kaka coba  tunjuk kaka coba\n",
       "1             Inii!               ini\n",
       "2     Siapa namamu?        siapa nama\n",
       "3           Iyaaaa?                  \n",
       "4    Kenalan duluu!       kenal duluu"
      ]
     },
     "execution_count": 3,
     "metadata": {},
     "output_type": "execute_result"
    }
   ],
   "source": [
    "text_preprocessor = TextPreprocessor()\n",
    "df['clean_text'] = df['transcription'].apply(text_preprocessor.preprocess)\n",
    "df[['transcription', 'clean_text']].head()"
   ]
  },
  {
   "cell_type": "markdown",
   "id": "56c1d86e",
   "metadata": {},
   "source": [
    "Ekstraksi fitur"
   ]
  },
  {
   "cell_type": "code",
   "execution_count": 4,
   "id": "95046e18",
   "metadata": {},
   "outputs": [
    {
     "name": "stdout",
     "output_type": "stream",
     "text": [
      "(3568, 4437) (3568,)\n"
     ]
    }
   ],
   "source": [
    "extractor = FeatureExtractor()\n",
    "X = extractor.fit_transform_tfidf(df['clean_text'])\n",
    "y = df['label'].values\n",
    "print(X.shape, y.shape)"
   ]
  },
  {
   "cell_type": "markdown",
   "id": "1b0ec845",
   "metadata": {},
   "source": [
    "SVC WITH 5 FOLD"
   ]
  },
  {
   "cell_type": "code",
   "execution_count": 5,
   "id": "7c5fa12a",
   "metadata": {},
   "outputs": [
    {
     "name": "stdout",
     "output_type": "stream",
     "text": [
      "\n",
      "Fold 1\n",
      "              precision    recall  f1-score   support\n",
      "\n",
      "         ASD      0.677     0.775     0.723       249\n",
      "     NON ASD      0.869     0.802     0.834       465\n",
      "\n",
      "    accuracy                          0.793       714\n",
      "   macro avg      0.773     0.789     0.779       714\n",
      "weighted avg      0.802     0.793     0.796       714\n",
      "\n",
      "Confusion Matrix:\n",
      " [[193  56]\n",
      " [ 92 373]]\n",
      "\n",
      "Fold 2\n",
      "              precision    recall  f1-score   support\n",
      "\n",
      "         ASD      0.710     0.719     0.715       249\n",
      "     NON ASD      0.848     0.843     0.846       465\n",
      "\n",
      "    accuracy                          0.800       714\n",
      "   macro avg      0.779     0.781     0.780       714\n",
      "weighted avg      0.800     0.800     0.800       714\n",
      "\n",
      "Confusion Matrix:\n",
      " [[179  70]\n",
      " [ 73 392]]\n",
      "\n",
      "Fold 3\n",
      "              precision    recall  f1-score   support\n",
      "\n",
      "         ASD      0.731     0.795     0.762       249\n",
      "     NON ASD      0.885     0.843     0.863       465\n",
      "\n",
      "    accuracy                          0.826       714\n",
      "   macro avg      0.808     0.819     0.812       714\n",
      "weighted avg      0.831     0.826     0.828       714\n",
      "\n",
      "Confusion Matrix:\n",
      " [[198  51]\n",
      " [ 73 392]]\n",
      "\n",
      "Fold 4\n",
      "              precision    recall  f1-score   support\n",
      "\n",
      "         ASD      0.694     0.794     0.741       248\n",
      "     NON ASD      0.881     0.813     0.846       465\n",
      "\n",
      "    accuracy                          0.806       713\n",
      "   macro avg      0.787     0.804     0.793       713\n",
      "weighted avg      0.816     0.806     0.809       713\n",
      "\n",
      "Confusion Matrix:\n",
      " [[197  51]\n",
      " [ 87 378]]\n",
      "\n",
      "Fold 5\n",
      "              precision    recall  f1-score   support\n",
      "\n",
      "         ASD      0.680     0.735     0.707       249\n",
      "     NON ASD      0.851     0.815     0.833       464\n",
      "\n",
      "    accuracy                          0.787       713\n",
      "   macro avg      0.766     0.775     0.770       713\n",
      "weighted avg      0.792     0.787     0.789       713\n",
      "\n",
      "Confusion Matrix:\n",
      " [[183  66]\n",
      " [ 86 378]]\n",
      "\n",
      "Mean Metrics:\n",
      "Accuracy : 0.8024\n",
      "Precision: 0.6984\n",
      "Recall   : 0.7637\n",
      "F1       : 0.7292\n"
     ]
    }
   ],
   "source": [
    "trainer = BaselineTrainer()\n",
    "evaluator = ModelEvaluator(model_type='svm')\n",
    "\n",
    "results = evaluator.cross_validate(X,y)"
   ]
  },
  {
   "cell_type": "markdown",
   "id": "a33e7b83",
   "metadata": {},
   "source": [
    "LINEAR REGRETION WITH 5 FOLD"
   ]
  },
  {
   "cell_type": "code",
   "execution_count": 6,
   "id": "6f0cd2fb",
   "metadata": {},
   "outputs": [
    {
     "name": "stdout",
     "output_type": "stream",
     "text": [
      "\n",
      "Fold 1\n",
      "              precision    recall  f1-score   support\n",
      "\n",
      "         ASD      0.792     0.337     0.473       249\n",
      "     NON ASD      0.729     0.953     0.826       465\n",
      "\n",
      "    accuracy                          0.738       714\n",
      "   macro avg      0.761     0.645     0.649       714\n",
      "weighted avg      0.751     0.738     0.703       714\n",
      "\n",
      "Confusion Matrix:\n",
      " [[ 84 165]\n",
      " [ 22 443]]\n",
      "\n",
      "Fold 2\n",
      "              precision    recall  f1-score   support\n",
      "\n",
      "         ASD      0.783     0.289     0.422       249\n",
      "     NON ASD      0.715     0.957     0.819       465\n",
      "\n",
      "    accuracy                          0.724       714\n",
      "   macro avg      0.749     0.623     0.621       714\n",
      "weighted avg      0.739     0.724     0.680       714\n",
      "\n",
      "Confusion Matrix:\n",
      " [[ 72 177]\n",
      " [ 20 445]]\n",
      "\n",
      "Fold 3\n",
      "              precision    recall  f1-score   support\n",
      "\n",
      "         ASD      0.812     0.329     0.469       249\n",
      "     NON ASD      0.728     0.959     0.827       465\n",
      "\n",
      "    accuracy                          0.739       714\n",
      "   macro avg      0.770     0.644     0.648       714\n",
      "weighted avg      0.757     0.739     0.702       714\n",
      "\n",
      "Confusion Matrix:\n",
      " [[ 82 167]\n",
      " [ 19 446]]\n",
      "\n",
      "Fold 4\n",
      "              precision    recall  f1-score   support\n",
      "\n",
      "         ASD      0.764     0.327     0.458       248\n",
      "     NON ASD      0.725     0.946     0.821       465\n",
      "\n",
      "    accuracy                          0.731       713\n",
      "   macro avg      0.745     0.636     0.639       713\n",
      "weighted avg      0.739     0.731     0.695       713\n",
      "\n",
      "Confusion Matrix:\n",
      " [[ 81 167]\n",
      " [ 25 440]]\n",
      "\n",
      "Fold 5\n",
      "              precision    recall  f1-score   support\n",
      "\n",
      "         ASD      0.837     0.329     0.473       249\n",
      "     NON ASD      0.728     0.966     0.830       464\n",
      "\n",
      "    accuracy                          0.743       713\n",
      "   macro avg      0.783     0.647     0.652       713\n",
      "weighted avg      0.766     0.743     0.705       713\n",
      "\n",
      "Confusion Matrix:\n",
      " [[ 82 167]\n",
      " [ 16 448]]\n",
      "\n",
      "Mean Metrics:\n",
      "Accuracy : 0.7351\n",
      "Precision: 0.7976\n",
      "Recall   : 0.3224\n",
      "F1       : 0.4589\n"
     ]
    }
   ],
   "source": [
    "trainer = BaselineTrainer()\n",
    "evaluator = ModelEvaluator()\n",
    "\n",
    "results = evaluator.cross_validate(X,y)"
   ]
  },
  {
   "cell_type": "markdown",
   "id": "5fcfd065",
   "metadata": {},
   "source": [
    "SVM WITH 10 FOLD"
   ]
  },
  {
   "cell_type": "code",
   "execution_count": null,
   "id": "59c1ca05",
   "metadata": {},
   "outputs": [],
   "source": [
    "trainer = BaselineTrainer()\n",
    "evaluator = ModelEvaluator(model_type='svm', n_splits= 10, random_state=32)\n",
    "\n",
    "results = evaluator.cross_validate(X,y)"
   ]
  }
 ],
 "metadata": {
  "kernelspec": {
   "display_name": "tfid",
   "language": "python",
   "name": "python3"
  },
  "language_info": {
   "codemirror_mode": {
    "name": "ipython",
    "version": 3
   },
   "file_extension": ".py",
   "mimetype": "text/x-python",
   "name": "python",
   "nbconvert_exporter": "python",
   "pygments_lexer": "ipython3",
   "version": "3.8.10"
  }
 },
 "nbformat": 4,
 "nbformat_minor": 5
}
