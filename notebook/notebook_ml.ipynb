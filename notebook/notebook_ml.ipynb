{
 "cells": [
  {
   "cell_type": "code",
   "execution_count": 14,
   "id": "9bb99836",
   "metadata": {},
   "outputs": [
    {
     "name": "stdout",
     "output_type": "stream",
     "text": [
      "['d:\\\\aco\\\\research\\\\Asd-classification\\\\notebook', 'c:\\\\Users\\\\MufliDevs\\\\anaconda3\\\\python312.zip', 'c:\\\\Users\\\\MufliDevs\\\\anaconda3\\\\DLLs', 'c:\\\\Users\\\\MufliDevs\\\\anaconda3\\\\Lib', 'c:\\\\Users\\\\MufliDevs\\\\anaconda3', '', 'c:\\\\Users\\\\MufliDevs\\\\anaconda3\\\\Lib\\\\site-packages', 'c:\\\\Users\\\\MufliDevs\\\\anaconda3\\\\Lib\\\\site-packages\\\\win32', 'c:\\\\Users\\\\MufliDevs\\\\anaconda3\\\\Lib\\\\site-packages\\\\win32\\\\lib', 'c:\\\\Users\\\\MufliDevs\\\\anaconda3\\\\Lib\\\\site-packages\\\\Pythonwin', 'c:\\\\Users\\\\MufliDevs\\\\anaconda3\\\\Lib\\\\site-packages\\\\setuptools\\\\_vendor', '..', '..', '..']\n"
     ]
    }
   ],
   "source": [
    "import sys\n",
    "import numpy as np\n",
    "import pandas as pd\n",
    "import os\n",
    "import matplotlib.pyplot as plt\n",
    "import seaborn as sns\n",
    "from sklearn.metrics import confusion_matrix\n",
    "sys.path.append('..')\n",
    "print(sys.path)\n",
    "from nlp_pipeline.feature_extraction import FeatureExtractor\n",
    "from nlp_pipeline.preprocess_text import TextPreprocessor\n",
    "from model.evaluate_model import ModelEvaluator\n",
    "from model.train_baseline import BaselineTrainer\n",
    "from interpretation.lime_interpreter import LimeTextInterpreter\n",
    "from interpretation.shap_interpreter import ShapInterpreter\n",
    "from nlp_pipeline.back_translator import BackTranslationAugmentor\n",
    "from nlp_pipeline.embedding_oversample import EmbeddingOversampler"
   ]
  },
  {
   "cell_type": "markdown",
   "id": "62c8d546",
   "metadata": {},
   "source": [
    "Load dataset + Augmented"
   ]
  },
  {
   "cell_type": "code",
   "execution_count": null,
   "id": "72694a2e",
   "metadata": {},
   "outputs": [],
   "source": [
    "df = df = pd.read_csv('../data/feature/merged_final.csv', encoding='latin1')\n",
    "columns = ['label', 'transcription', 'total_words', 'unique_words', 'num_sentences',\n",
    "                   'stopwords', 'num_adjectives', 'num_nouns', 'num_verbs', 'num_adverbs',\n",
    "                   'type_token_ratio', 'avg_words_per_sentence']\n",
    "df = df[columns]\n",
    "augmentor = BackTranslationAugmentor()\n",
    "df_augmented = augmentor.augment_dataframe(df)\n",
    "print(df_augmented.head)\n",
    "df_augmented.to_csv('../data/feature/1_augmented.csv', index=False)"
   ]
  },
  {
   "cell_type": "markdown",
   "id": "5151598b",
   "metadata": {},
   "source": [
    "Preprocessing text"
   ]
  },
  {
   "cell_type": "code",
   "execution_count": 2,
   "id": "22c7bd4c",
   "metadata": {},
   "outputs": [
    {
     "data": {
      "text/html": [
       "<div>\n",
       "<style scoped>\n",
       "    .dataframe tbody tr th:only-of-type {\n",
       "        vertical-align: middle;\n",
       "    }\n",
       "\n",
       "    .dataframe tbody tr th {\n",
       "        vertical-align: top;\n",
       "    }\n",
       "\n",
       "    .dataframe thead th {\n",
       "        text-align: right;\n",
       "    }\n",
       "</style>\n",
       "<table border=\"1\" class=\"dataframe\">\n",
       "  <thead>\n",
       "    <tr style=\"text-align: right;\">\n",
       "      <th></th>\n",
       "      <th>transcription</th>\n",
       "      <th>clean_text</th>\n",
       "    </tr>\n",
       "  </thead>\n",
       "  <tbody>\n",
       "    <tr>\n",
       "      <th>0</th>\n",
       "      <td>Tunjuk kaka coba</td>\n",
       "      <td>tunjuk kaka coba</td>\n",
       "    </tr>\n",
       "    <tr>\n",
       "      <th>1</th>\n",
       "      <td>Inii!</td>\n",
       "      <td>ini</td>\n",
       "    </tr>\n",
       "    <tr>\n",
       "      <th>2</th>\n",
       "      <td>Siapa namamu?</td>\n",
       "      <td>siapa nama</td>\n",
       "    </tr>\n",
       "    <tr>\n",
       "      <th>3</th>\n",
       "      <td>Iyaaaa?</td>\n",
       "      <td></td>\n",
       "    </tr>\n",
       "    <tr>\n",
       "      <th>4</th>\n",
       "      <td>Kenalan duluu!</td>\n",
       "      <td>kenal duluu</td>\n",
       "    </tr>\n",
       "  </tbody>\n",
       "</table>\n",
       "</div>"
      ],
      "text/plain": [
       "      transcription        clean_text\n",
       "0  Tunjuk kaka coba  tunjuk kaka coba\n",
       "1             Inii!               ini\n",
       "2     Siapa namamu?        siapa nama\n",
       "3           Iyaaaa?                  \n",
       "4    Kenalan duluu!       kenal duluu"
      ]
     },
     "execution_count": 2,
     "metadata": {},
     "output_type": "execute_result"
    }
   ],
   "source": [
    "df = df = pd.read_csv('../data/feature/combined_augmented_asd.csv', encoding='latin1')\n",
    "text_preprocessor = TextPreprocessor()\n",
    "df['clean_text'] = df['transcription'].apply(text_preprocessor.preprocess)\n",
    "df[['transcription', 'clean_text']].head()"
   ]
  },
  {
   "cell_type": "code",
   "execution_count": null,
   "id": "0cad1818",
   "metadata": {},
   "outputs": [],
   "source": [
    "df['label'].value_counts()\n",
    "df['label'].value_counts()"
   ]
  },
  {
   "cell_type": "markdown",
   "id": "56c1d86e",
   "metadata": {},
   "source": [
    "Ekstraksi fitur with TFIDF"
   ]
  },
  {
   "cell_type": "code",
   "execution_count": null,
   "id": "95046e18",
   "metadata": {},
   "outputs": [],
   "source": [
    "extractor = FeatureExtractor()\n",
    "X = extractor.fit_transform_tfidf(df['clean_text'])\n",
    "y = df['label'].values\n",
    "print(X.shape, y.shape)"
   ]
  },
  {
   "cell_type": "markdown",
   "id": "2f96aad2",
   "metadata": {},
   "source": [
    "Oversampling with TFIDF"
   ]
  },
  {
   "cell_type": "code",
   "execution_count": null,
   "id": "7520d541",
   "metadata": {},
   "outputs": [],
   "source": [
    "X_dense = extractor.fit_transform_tfidf(df['clean_text']).toarray()\n",
    "\n",
    "ling_cols = extractor.linguistic_cols\n",
    "X_ling = df[ling_cols].values\n",
    "\n",
    "y = (df['label'].str.upper().str.strip() == 'ASD').astype(int).values\n",
    "\n",
    "oversampler = EmbeddingOversampler()\n",
    "X_embed_bal, X_ling_bal, y_bal = oversampler.oversample(X_dense, X_ling, y)\n"
   ]
  },
  {
   "cell_type": "markdown",
   "id": "2bdeb2d6",
   "metadata": {},
   "source": [
    "Ekstraksi fitur with IndoBERT"
   ]
  },
  {
   "cell_type": "code",
   "execution_count": null,
   "id": "8a2939d8",
   "metadata": {},
   "outputs": [],
   "source": [
    "extractor = FeatureExtractor()\n",
    "X = extractor.encode_series_bert(df['clean_text'])\n",
    "y = (df['label'].str.upper().str.strip() == 'ASD').astype(int).values\n",
    "ling_cols = extractor.linguistic_cols\n",
    "X_ling = df[ling_cols].values\n",
    "oversampler = EmbeddingOversampler()\n",
    "X_embed_bal, X_ling_bal, y_bal = oversampler.oversample(X, X_ling, y)\n",
    "\n",
    "print(X_embed_bal.shape, y.shape)"
   ]
  },
  {
   "cell_type": "markdown",
   "id": "1b0ec845",
   "metadata": {},
   "source": [
    "SVC WITH 5 FOLD"
   ]
  },
  {
   "cell_type": "code",
   "execution_count": 4,
   "id": "7c5fa12a",
   "metadata": {},
   "outputs": [
    {
     "name": "stdout",
     "output_type": "stream",
     "text": [
      "\n",
      "[Oversampled] Fold 1\n",
      "              precision    recall  f1-score   support\n",
      "\n",
      "           0      0.941     0.805     0.868       930\n",
      "           1      0.830     0.949     0.886       930\n",
      "\n",
      "    accuracy                          0.877      1860\n",
      "   macro avg      0.885     0.877     0.877      1860\n",
      "weighted avg      0.885     0.877     0.877      1860\n",
      "\n",
      "Confusion Matrix:\n",
      " [[749 181]\n",
      " [ 47 883]]\n",
      "Confusion Matrix (Fold 1):\n",
      "[[749 181]\n",
      " [ 47 883]]\n",
      "\n",
      "[Oversampled] Fold 2\n",
      "              precision    recall  f1-score   support\n",
      "\n",
      "           0      0.948     0.820     0.880       930\n",
      "           1      0.842     0.955     0.895       929\n",
      "\n",
      "    accuracy                          0.888      1859\n",
      "   macro avg      0.895     0.888     0.887      1859\n",
      "weighted avg      0.895     0.888     0.887      1859\n",
      "\n",
      "Confusion Matrix:\n",
      " [[763 167]\n",
      " [ 42 887]]\n",
      "Confusion Matrix (Fold 2):\n",
      "[[763 167]\n",
      " [ 42 887]]\n",
      "\n",
      "[Oversampled] Fold 3\n",
      "              precision    recall  f1-score   support\n",
      "\n",
      "           0      0.940     0.828     0.881       930\n",
      "           1      0.846     0.947     0.894       929\n",
      "\n",
      "    accuracy                          0.888      1859\n",
      "   macro avg      0.893     0.888     0.887      1859\n",
      "weighted avg      0.893     0.888     0.887      1859\n",
      "\n",
      "Confusion Matrix:\n",
      " [[770 160]\n",
      " [ 49 880]]\n",
      "Confusion Matrix (Fold 3):\n",
      "[[770 160]\n",
      " [ 49 880]]\n",
      "\n",
      "[Oversampled] Fold 4\n",
      "              precision    recall  f1-score   support\n",
      "\n",
      "           0      0.943     0.822     0.879       929\n",
      "           1      0.843     0.951     0.893       930\n",
      "\n",
      "    accuracy                          0.886      1859\n",
      "   macro avg      0.893     0.886     0.886      1859\n",
      "weighted avg      0.893     0.886     0.886      1859\n",
      "\n",
      "Confusion Matrix:\n",
      " [[764 165]\n",
      " [ 46 884]]\n",
      "Confusion Matrix (Fold 4):\n",
      "[[764 165]\n",
      " [ 46 884]]\n",
      "\n",
      "[Oversampled] Fold 5\n",
      "              precision    recall  f1-score   support\n",
      "\n",
      "           0      0.943     0.819     0.877       929\n",
      "           1      0.840     0.951     0.892       930\n",
      "\n",
      "    accuracy                          0.885      1859\n",
      "   macro avg      0.892     0.885     0.884      1859\n",
      "weighted avg      0.892     0.885     0.884      1859\n",
      "\n",
      "Confusion Matrix:\n",
      " [[761 168]\n",
      " [ 46 884]]\n",
      "Confusion Matrix (Fold 5):\n",
      "[[761 168]\n",
      " [ 46 884]]\n",
      "\n",
      "Mean Metrics (Oversampled):\n",
      "Accuracy : 0.8848\n",
      "Precision: 0.8401\n",
      "Recall   : 0.9505\n",
      "F1       : 0.8919\n",
      "\n",
      "Best Fold: Fold 2 with F1-score = 0.8946\n"
     ]
    }
   ],
   "source": [
    "trainer = BaselineTrainer()\n",
    "\n",
    "evaluator = ModelEvaluator(model_type='svm',pos_label=1)\n",
    "\n",
    "results = evaluator.cross_validate_oversample_with_confusionmatrix(X_embed_bal,y_bal)"
   ]
  },
  {
   "cell_type": "markdown",
   "id": "6180171f",
   "metadata": {},
   "source": [
    "USE THIS IF YOU NOT USING BERT"
   ]
  },
  {
   "cell_type": "code",
   "execution_count": null,
   "id": "cf2d372e",
   "metadata": {},
   "outputs": [],
   "source": [
    "final_model = trainer.train(X_embed_bal, y_bal)\n",
    "\n",
    "lime_interpreter = LimeTextInterpreter(\n",
    "    model=final_model,\n",
    "    vectorizer=extractor.get_tfidf_vectorizer(),\n",
    "    class_names=['NON ASD', 'ASD']\n",
    ")\n",
    "\n",
    "asd_samples = df[df['label'] == 'ASD'].sample(n=12, random_state=42)\n",
    "non_asd_samples = df[df['label'] == 'NON ASD'].sample(n=12, random_state=42)\n",
    "lime_samples = pd.concat([asd_samples, non_asd_samples]).reset_index(drop=True)\n",
    "\n",
    "lime_interpreter.save_lime_explanation_to_csv(lime_samples,\"../reports/lime_results.csv\")"
   ]
  },
  {
   "cell_type": "code",
   "execution_count": null,
   "id": "bb513db3",
   "metadata": {},
   "outputs": [],
   "source": [
    "final_model = BaselineTrainer('svm').train(X_embed_bal,y_bal)\n",
    "interpreter = ShapInterpreter(model=final_model)\n",
    "sampled_df = df.sample(n=100, random_state=42)\n",
    "texts = sampled_df['clean_text'].tolist()\n",
    "labels = sampled_df['label'].tolist()\n",
    "\n",
    "shap_values = interpreter.explain(texts)\n",
    "interpreter.save_shap_explanations_to_csv(\n",
    "    shap_values=shap_values,\n",
    "    texts=texts,\n",
    "    output_path=\"../reports/shap_results_SVM_oversample+bert.csv\",\n",
    "    true_labels=labels\n",
    ")"
   ]
  },
  {
   "cell_type": "markdown",
   "id": "a33e7b83",
   "metadata": {},
   "source": [
    "LINEAR REGRETION WITH 5 FOLD"
   ]
  },
  {
   "cell_type": "code",
   "execution_count": 6,
   "id": "6f0cd2fb",
   "metadata": {},
   "outputs": [
    {
     "name": "stdout",
     "output_type": "stream",
     "text": [
      "\n",
      "[Oversampled] Fold 1\n",
      "              precision    recall  f1-score   support\n",
      "\n",
      "           0      0.905     0.801     0.850       930\n",
      "           1      0.822     0.916     0.866       930\n",
      "\n",
      "    accuracy                          0.859      1860\n",
      "   macro avg      0.863     0.859     0.858      1860\n",
      "weighted avg      0.863     0.859     0.858      1860\n",
      "\n",
      "Confusion Matrix:\n",
      " [[745 185]\n",
      " [ 78 852]]\n",
      "Confusion Matrix (Fold 1):\n",
      "[[745 185]\n",
      " [ 78 852]]\n",
      "\n",
      "[Oversampled] Fold 2\n",
      "              precision    recall  f1-score   support\n",
      "\n",
      "           0      0.928     0.810     0.865       930\n",
      "           1      0.831     0.938     0.881       929\n",
      "\n",
      "    accuracy                          0.874      1859\n",
      "   macro avg      0.880     0.874     0.873      1859\n",
      "weighted avg      0.880     0.874     0.873      1859\n",
      "\n",
      "Confusion Matrix:\n",
      " [[753 177]\n",
      " [ 58 871]]\n",
      "Confusion Matrix (Fold 2):\n",
      "[[753 177]\n",
      " [ 58 871]]\n",
      "\n",
      "[Oversampled] Fold 3\n",
      "              precision    recall  f1-score   support\n",
      "\n",
      "           0      0.912     0.817     0.862       930\n",
      "           1      0.834     0.921     0.876       929\n",
      "\n",
      "    accuracy                          0.869      1859\n",
      "   macro avg      0.873     0.869     0.869      1859\n",
      "weighted avg      0.873     0.869     0.869      1859\n",
      "\n",
      "Confusion Matrix:\n",
      " [[760 170]\n",
      " [ 73 856]]\n",
      "Confusion Matrix (Fold 3):\n",
      "[[760 170]\n",
      " [ 73 856]]\n",
      "\n",
      "[Oversampled] Fold 4\n",
      "              precision    recall  f1-score   support\n",
      "\n",
      "           0      0.925     0.813     0.865       929\n",
      "           1      0.833     0.934     0.881       930\n",
      "\n",
      "    accuracy                          0.874      1859\n",
      "   macro avg      0.879     0.874     0.873      1859\n",
      "weighted avg      0.879     0.874     0.873      1859\n",
      "\n",
      "Confusion Matrix:\n",
      " [[755 174]\n",
      " [ 61 869]]\n",
      "Confusion Matrix (Fold 4):\n",
      "[[755 174]\n",
      " [ 61 869]]\n",
      "\n",
      "[Oversampled] Fold 5\n",
      "              precision    recall  f1-score   support\n",
      "\n",
      "           0      0.904     0.800     0.849       929\n",
      "           1      0.821     0.915     0.865       930\n",
      "\n",
      "    accuracy                          0.857      1859\n",
      "   macro avg      0.862     0.857     0.857      1859\n",
      "weighted avg      0.862     0.857     0.857      1859\n",
      "\n",
      "Confusion Matrix:\n",
      " [[743 186]\n",
      " [ 79 851]]\n",
      "Confusion Matrix (Fold 5):\n",
      "[[743 186]\n",
      " [ 79 851]]\n",
      "\n",
      "Mean Metrics (Oversampled):\n",
      "Accuracy : 0.8665\n",
      "Precision: 0.8282\n",
      "Recall   : 0.9249\n",
      "F1       : 0.8739\n",
      "\n",
      "Best Fold: Fold 2 with F1-score = 0.8811\n"
     ]
    }
   ],
   "source": [
    "trainer = BaselineTrainer()\n",
    "evaluator = ModelEvaluator(pos_label=1)\n",
    "\n",
    "results = evaluator.cross_validate_oversample_with_confusionmatrix(X_embed_bal,y_bal)"
   ]
  },
  {
   "cell_type": "code",
   "execution_count": null,
   "id": "dbf5bb6a",
   "metadata": {},
   "outputs": [],
   "source": [
    "final_model = trainer.train(X, y)\n",
    "\n",
    "lime_interpreter = LimeTextInterpreter(\n",
    "    model=final_model,\n",
    "    vectorizer=extractor.get_tfidf_vectorizer(),\n",
    "    class_names=['NON ASD', 'ASD']\n",
    ")\n",
    "\n",
    "asd_samples = df[df['label'] == 'ASD'].sample(n=12, random_state=42)\n",
    "non_asd_samples = df[df['label'] == 'NON ASD'].sample(n=12, random_state=42)\n",
    "lime_samples = pd.concat([asd_samples, non_asd_samples]).reset_index(drop=True)\n",
    "\n",
    "lime_interpreter.save_lime_explanation_to_csv(lime_samples,\"../reports/lime_results_LOGRES.csv\")"
   ]
  },
  {
   "cell_type": "markdown",
   "id": "5fcfd065",
   "metadata": {},
   "source": [
    "SVM WITH 10 FOLD"
   ]
  },
  {
   "cell_type": "code",
   "execution_count": 5,
   "id": "59c1ca05",
   "metadata": {},
   "outputs": [
    {
     "name": "stdout",
     "output_type": "stream",
     "text": [
      "\n",
      "[Oversampled] Fold 1\n",
      "              precision    recall  f1-score   support\n",
      "\n",
      "           0      0.967     0.822     0.888       465\n",
      "           1      0.845     0.972     0.904       465\n",
      "\n",
      "    accuracy                          0.897       930\n",
      "   macro avg      0.906     0.897     0.896       930\n",
      "weighted avg      0.906     0.897     0.896       930\n",
      "\n",
      "Confusion Matrix:\n",
      " [[382  83]\n",
      " [ 13 452]]\n",
      "Confusion Matrix (Fold 1):\n",
      "[[382  83]\n",
      " [ 13 452]]\n",
      "\n",
      "[Oversampled] Fold 2\n",
      "              precision    recall  f1-score   support\n",
      "\n",
      "           0      0.948     0.828     0.884       465\n",
      "           1      0.847     0.955     0.898       465\n",
      "\n",
      "    accuracy                          0.891       930\n",
      "   macro avg      0.898     0.891     0.891       930\n",
      "weighted avg      0.898     0.891     0.891       930\n",
      "\n",
      "Confusion Matrix:\n",
      " [[385  80]\n",
      " [ 21 444]]\n",
      "Confusion Matrix (Fold 2):\n",
      "[[385  80]\n",
      " [ 21 444]]\n",
      "\n",
      "[Oversampled] Fold 3\n",
      "              precision    recall  f1-score   support\n",
      "\n",
      "           0      0.945     0.854     0.897       465\n",
      "           1      0.867     0.951     0.907       465\n",
      "\n",
      "    accuracy                          0.902       930\n",
      "   macro avg      0.906     0.902     0.902       930\n",
      "weighted avg      0.906     0.902     0.902       930\n",
      "\n",
      "Confusion Matrix:\n",
      " [[397  68]\n",
      " [ 23 442]]\n",
      "Confusion Matrix (Fold 3):\n",
      "[[397  68]\n",
      " [ 23 442]]\n",
      "\n",
      "[Oversampled] Fold 4\n",
      "              precision    recall  f1-score   support\n",
      "\n",
      "           0      0.951     0.794     0.865       465\n",
      "           1      0.823     0.959     0.886       465\n",
      "\n",
      "    accuracy                          0.876       930\n",
      "   macro avg      0.887     0.876     0.875       930\n",
      "weighted avg      0.887     0.876     0.875       930\n",
      "\n",
      "Confusion Matrix:\n",
      " [[369  96]\n",
      " [ 19 446]]\n",
      "Confusion Matrix (Fold 4):\n",
      "[[369  96]\n",
      " [ 19 446]]\n",
      "\n",
      "[Oversampled] Fold 5\n",
      "              precision    recall  f1-score   support\n",
      "\n",
      "           0      0.927     0.843     0.883       465\n",
      "           1      0.856     0.933     0.893       465\n",
      "\n",
      "    accuracy                          0.888       930\n",
      "   macro avg      0.891     0.888     0.888       930\n",
      "weighted avg      0.891     0.888     0.888       930\n",
      "\n",
      "Confusion Matrix:\n",
      " [[392  73]\n",
      " [ 31 434]]\n",
      "Confusion Matrix (Fold 5):\n",
      "[[392  73]\n",
      " [ 31 434]]\n",
      "\n",
      "[Oversampled] Fold 6\n",
      "              precision    recall  f1-score   support\n",
      "\n",
      "           0      0.963     0.783     0.864       465\n",
      "           1      0.817     0.970     0.887       465\n",
      "\n",
      "    accuracy                          0.876       930\n",
      "   macro avg      0.890     0.876     0.875       930\n",
      "weighted avg      0.890     0.876     0.875       930\n",
      "\n",
      "Confusion Matrix:\n",
      " [[364 101]\n",
      " [ 14 451]]\n",
      "Confusion Matrix (Fold 6):\n",
      "[[364 101]\n",
      " [ 14 451]]\n",
      "\n",
      "[Oversampled] Fold 7\n",
      "              precision    recall  f1-score   support\n",
      "\n",
      "           0      0.952     0.817     0.880       465\n",
      "           1      0.840     0.959     0.895       464\n",
      "\n",
      "    accuracy                          0.888       929\n",
      "   macro avg      0.896     0.888     0.888       929\n",
      "weighted avg      0.896     0.888     0.887       929\n",
      "\n",
      "Confusion Matrix:\n",
      " [[380  85]\n",
      " [ 19 445]]\n",
      "Confusion Matrix (Fold 7):\n",
      "[[380  85]\n",
      " [ 19 445]]\n",
      "\n",
      "[Oversampled] Fold 8\n",
      "              precision    recall  f1-score   support\n",
      "\n",
      "           0      0.928     0.834     0.879       465\n",
      "           1      0.849     0.935     0.890       464\n",
      "\n",
      "    accuracy                          0.885       929\n",
      "   macro avg      0.889     0.885     0.885       929\n",
      "weighted avg      0.889     0.885     0.885       929\n",
      "\n",
      "Confusion Matrix:\n",
      " [[388  77]\n",
      " [ 30 434]]\n",
      "Confusion Matrix (Fold 8):\n",
      "[[388  77]\n",
      " [ 30 434]]\n",
      "\n",
      "[Oversampled] Fold 9\n",
      "              precision    recall  f1-score   support\n",
      "\n",
      "           0      0.932     0.858     0.893       464\n",
      "           1      0.869     0.938     0.902       465\n",
      "\n",
      "    accuracy                          0.898       929\n",
      "   macro avg      0.900     0.898     0.898       929\n",
      "weighted avg      0.900     0.898     0.898       929\n",
      "\n",
      "Confusion Matrix:\n",
      " [[398  66]\n",
      " [ 29 436]]\n",
      "Confusion Matrix (Fold 9):\n",
      "[[398  66]\n",
      " [ 29 436]]\n",
      "\n",
      "[Oversampled] Fold 10\n",
      "              precision    recall  f1-score   support\n",
      "\n",
      "           0      0.946     0.797     0.865       464\n",
      "           1      0.825     0.955     0.885       465\n",
      "\n",
      "    accuracy                          0.876       929\n",
      "   macro avg      0.886     0.876     0.875       929\n",
      "weighted avg      0.886     0.876     0.875       929\n",
      "\n",
      "Confusion Matrix:\n",
      " [[370  94]\n",
      " [ 21 444]]\n",
      "Confusion Matrix (Fold 10):\n",
      "[[370  94]\n",
      " [ 21 444]]\n",
      "\n",
      "Mean Metrics (Oversampled):\n",
      "Accuracy : 0.8878\n",
      "Precision: 0.8438\n",
      "Recall   : 0.9527\n",
      "F1       : 0.8947\n",
      "\n",
      "Best Fold: Fold 3 with F1-score = 0.9067\n"
     ]
    }
   ],
   "source": [
    "trainer = BaselineTrainer()\n",
    "evaluator = ModelEvaluator(model_type='svm', n_splits= 10, random_state=32,pos_label=1)\n",
    "\n",
    "results = evaluator.cross_validate_oversample_with_confusionmatrix(X_embed_bal,y_bal)"
   ]
  },
  {
   "cell_type": "code",
   "execution_count": null,
   "id": "f5a547db",
   "metadata": {},
   "outputs": [],
   "source": [
    "final_model = trainer.train(X, y)\n",
    "\n",
    "lime_interpreter = LimeTextInterpreter(\n",
    "    model=final_model,\n",
    "    vectorizer=extractor.get_tfidf_vectorizer(),\n",
    "    class_names=['NON ASD', 'ASD']\n",
    ")\n",
    "\n",
    "asd_samples = df[df['label'] == 'ASD'].sample(n=12, random_state=42)\n",
    "non_asd_samples = df[df['label'] == 'NON ASD'].sample(n=12, random_state=42)\n",
    "lime_samples = pd.concat([asd_samples, non_asd_samples]).reset_index(drop=True)\n",
    "\n",
    "lime_interpreter.save_lime_explanation_to_csv(lime_samples,\"../reports/lime_results_SVM10FOLD.csv\")"
   ]
  },
  {
   "cell_type": "code",
   "execution_count": null,
   "id": "ce509fde",
   "metadata": {},
   "outputs": [],
   "source": [
    "final_model = BaselineTrainer('svm').train(X,y)\n",
    "interpreter = ShapInterpreter(model=final_model)\n",
    "sampled_df = df.sample(n=100, random_state=42)\n",
    "texts = sampled_df['clean_text'].tolist()\n",
    "labels = sampled_df['label'].tolist()\n",
    "\n",
    "shap_values = interpreter.explain(texts)\n",
    "interpreter.save_shap_explanations_to_csv(\n",
    "    shap_values=shap_values,\n",
    "    texts=texts,\n",
    "    output_path=\"../reports/shap_results_SVM_10_fold.csv\",\n",
    "    true_labels=labels\n",
    ")"
   ]
  },
  {
   "cell_type": "markdown",
   "id": "ac0fb88c",
   "metadata": {},
   "source": [
    "LINEAR REGRETION WITH 10 FOLD"
   ]
  },
  {
   "cell_type": "code",
   "execution_count": 8,
   "id": "a98b0d88",
   "metadata": {},
   "outputs": [
    {
     "name": "stdout",
     "output_type": "stream",
     "text": [
      "\n",
      "[Oversampled] Fold 1\n",
      "              precision    recall  f1-score   support\n",
      "\n",
      "           0      0.950     0.813     0.876       465\n",
      "           1      0.836     0.957     0.893       465\n",
      "\n",
      "    accuracy                          0.885       930\n",
      "   macro avg      0.893     0.885     0.884       930\n",
      "weighted avg      0.893     0.885     0.884       930\n",
      "\n",
      "Confusion Matrix:\n",
      " [[378  87]\n",
      " [ 20 445]]\n",
      "Confusion Matrix (Fold 1):\n",
      "[[378  87]\n",
      " [ 20 445]]\n",
      "\n",
      "[Oversampled] Fold 2\n",
      "              precision    recall  f1-score   support\n",
      "\n",
      "           0      0.933     0.776     0.847       465\n",
      "           1      0.808     0.944     0.871       465\n",
      "\n",
      "    accuracy                          0.860       930\n",
      "   macro avg      0.871     0.860     0.859       930\n",
      "weighted avg      0.871     0.860     0.859       930\n",
      "\n",
      "Confusion Matrix:\n",
      " [[361 104]\n",
      " [ 26 439]]\n",
      "Confusion Matrix (Fold 2):\n",
      "[[361 104]\n",
      " [ 26 439]]\n",
      "\n",
      "[Oversampled] Fold 3\n",
      "              precision    recall  f1-score   support\n",
      "\n",
      "           0      0.914     0.845     0.878       465\n",
      "           1      0.856     0.920     0.887       465\n",
      "\n",
      "    accuracy                          0.883       930\n",
      "   macro avg      0.885     0.883     0.883       930\n",
      "weighted avg      0.885     0.883     0.883       930\n",
      "\n",
      "Confusion Matrix:\n",
      " [[393  72]\n",
      " [ 37 428]]\n",
      "Confusion Matrix (Fold 3):\n",
      "[[393  72]\n",
      " [ 37 428]]\n",
      "\n",
      "[Oversampled] Fold 4\n",
      "              precision    recall  f1-score   support\n",
      "\n",
      "           0      0.914     0.781     0.842       465\n",
      "           1      0.809     0.927     0.864       465\n",
      "\n",
      "    accuracy                          0.854       930\n",
      "   macro avg      0.861     0.854     0.853       930\n",
      "weighted avg      0.861     0.854     0.853       930\n",
      "\n",
      "Confusion Matrix:\n",
      " [[363 102]\n",
      " [ 34 431]]\n",
      "Confusion Matrix (Fold 4):\n",
      "[[363 102]\n",
      " [ 34 431]]\n",
      "\n",
      "[Oversampled] Fold 5\n",
      "              precision    recall  f1-score   support\n",
      "\n",
      "           0      0.909     0.841     0.874       465\n",
      "           1      0.852     0.916     0.883       465\n",
      "\n",
      "    accuracy                          0.878       930\n",
      "   macro avg      0.881     0.878     0.878       930\n",
      "weighted avg      0.881     0.878     0.878       930\n",
      "\n",
      "Confusion Matrix:\n",
      " [[391  74]\n",
      " [ 39 426]]\n",
      "Confusion Matrix (Fold 5):\n",
      "[[391  74]\n",
      " [ 39 426]]\n",
      "\n",
      "[Oversampled] Fold 6\n",
      "              precision    recall  f1-score   support\n",
      "\n",
      "           0      0.936     0.783     0.852       465\n",
      "           1      0.813     0.946     0.875       465\n",
      "\n",
      "    accuracy                          0.865       930\n",
      "   macro avg      0.875     0.865     0.864       930\n",
      "weighted avg      0.875     0.865     0.864       930\n",
      "\n",
      "Confusion Matrix:\n",
      " [[364 101]\n",
      " [ 25 440]]\n",
      "Confusion Matrix (Fold 6):\n",
      "[[364 101]\n",
      " [ 25 440]]\n",
      "\n",
      "[Oversampled] Fold 7\n",
      "              precision    recall  f1-score   support\n",
      "\n",
      "           0      0.912     0.806     0.856       465\n",
      "           1      0.826     0.922     0.872       464\n",
      "\n",
      "    accuracy                          0.864       929\n",
      "   macro avg      0.869     0.864     0.864       929\n",
      "weighted avg      0.869     0.864     0.864       929\n",
      "\n",
      "Confusion Matrix:\n",
      " [[375  90]\n",
      " [ 36 428]]\n",
      "Confusion Matrix (Fold 7):\n",
      "[[375  90]\n",
      " [ 36 428]]\n",
      "\n",
      "[Oversampled] Fold 8\n",
      "              precision    recall  f1-score   support\n",
      "\n",
      "           0      0.898     0.794     0.842       465\n",
      "           1      0.815     0.909     0.859       464\n",
      "\n",
      "    accuracy                          0.851       929\n",
      "   macro avg      0.856     0.852     0.851       929\n",
      "weighted avg      0.856     0.851     0.851       929\n",
      "\n",
      "Confusion Matrix:\n",
      " [[369  96]\n",
      " [ 42 422]]\n",
      "Confusion Matrix (Fold 8):\n",
      "[[369  96]\n",
      " [ 42 422]]\n",
      "\n",
      "[Oversampled] Fold 9\n",
      "              precision    recall  f1-score   support\n",
      "\n",
      "           0      0.871     0.830     0.850       464\n",
      "           1      0.838     0.877     0.857       465\n",
      "\n",
      "    accuracy                          0.854       929\n",
      "   macro avg      0.854     0.854     0.854       929\n",
      "weighted avg      0.854     0.854     0.854       929\n",
      "\n",
      "Confusion Matrix:\n",
      " [[385  79]\n",
      " [ 57 408]]\n",
      "Confusion Matrix (Fold 9):\n",
      "[[385  79]\n",
      " [ 57 408]]\n",
      "\n",
      "[Oversampled] Fold 10\n",
      "              precision    recall  f1-score   support\n",
      "\n",
      "           0      0.917     0.789     0.848       464\n",
      "           1      0.815     0.929     0.868       465\n",
      "\n",
      "    accuracy                          0.859       929\n",
      "   macro avg      0.866     0.859     0.858       929\n",
      "weighted avg      0.866     0.859     0.858       929\n",
      "\n",
      "Confusion Matrix:\n",
      " [[366  98]\n",
      " [ 33 432]]\n",
      "Confusion Matrix (Fold 10):\n",
      "[[366  98]\n",
      " [ 33 432]]\n",
      "\n",
      "Mean Metrics (Oversampled):\n",
      "Accuracy : 0.8653\n",
      "Precision: 0.8269\n",
      "Recall   : 0.9249\n",
      "F1       : 0.8729\n",
      "\n",
      "Best Fold: Fold 1 with F1-score = 0.8927\n"
     ]
    }
   ],
   "source": [
    "trainer = BaselineTrainer()\n",
    "evaluator = ModelEvaluator(n_splits= 10, random_state=32,pos_label=1)\n",
    "\n",
    "results = evaluator.cross_validate_oversample_with_confusionmatrix(X_embed_bal,y_bal)"
   ]
  },
  {
   "cell_type": "code",
   "execution_count": null,
   "id": "74c09c7d",
   "metadata": {},
   "outputs": [],
   "source": [
    "final_model = BaselineTrainer('svm').train(X,y)\n",
    "interpreter = ShapInterpreter(model=final_model)\n",
    "sampled_df = df.sample(n=100, random_state=42)\n",
    "texts = sampled_df['clean_text'].tolist()\n",
    "labels = sampled_df['label'].tolist()\n",
    "\n",
    "shap_values = interpreter.explain(texts)\n",
    "interpreter.save_shap_explanations_to_csv(\n",
    "    shap_values=shap_values,\n",
    "    texts=texts,\n",
    "    output_path=\"../reports/shap_results_Logres_10_fold.csv\",\n",
    "    true_labels=labels\n",
    ")\n"
   ]
  },
  {
   "cell_type": "code",
   "execution_count": null,
   "id": "365ce051",
   "metadata": {},
   "outputs": [],
   "source": [
    "interpreter.visualize(shap_values= shap_values)"
   ]
  },
  {
   "cell_type": "markdown",
   "id": "502c494a",
   "metadata": {},
   "source": [
    "FUSION"
   ]
  },
  {
   "cell_type": "code",
   "execution_count": null,
   "id": "c9582256",
   "metadata": {},
   "outputs": [],
   "source": [
    "extractor = FeatureExtractor()\n",
    "X = extractor.extract_fused_features_bert(df)\n",
    "y = (df['label'].str.upper().str.strip() == 'ASD').astype(int).values\n",
    "ling_cols = extractor.linguistic_cols\n",
    "X_ling = df[ling_cols].values\n",
    "oversampler = EmbeddingOversampler()\n",
    "X_embed_bal, X_ling_bal, y_bal = oversampler.oversample(X, X_ling, y)\n",
    "\n",
    "print(X_embed_bal.shape, y.shape)"
   ]
  },
  {
   "cell_type": "markdown",
   "id": "ee707186",
   "metadata": {},
   "source": [
    "Fusion with tfidf"
   ]
  },
  {
   "cell_type": "code",
   "execution_count": 3,
   "id": "e0bcf2c0",
   "metadata": {},
   "outputs": [
    {
     "data": {
      "application/vnd.jupyter.widget-view+json": {
       "model_id": "f73a1822709d46628e0d3bfb7b48c39e",
       "version_major": 2,
       "version_minor": 0
      },
      "text/plain": [
       "tokenizer_config.json:   0%|          | 0.00/2.00 [00:00<?, ?B/s]"
      ]
     },
     "metadata": {},
     "output_type": "display_data"
    },
    {
     "data": {
      "application/vnd.jupyter.widget-view+json": {
       "model_id": "969c3ed0403942279bc4e8e9f75bbec4",
       "version_major": 2,
       "version_minor": 0
      },
      "text/plain": [
       "config.json:   0%|          | 0.00/1.53k [00:00<?, ?B/s]"
      ]
     },
     "metadata": {},
     "output_type": "display_data"
    },
    {
     "data": {
      "application/vnd.jupyter.widget-view+json": {
       "model_id": "6ed023edfcb74e69b235d3120e8a78a2",
       "version_major": 2,
       "version_minor": 0
      },
      "text/plain": [
       "tokenizer_config.json:   0%|          | 0.00/2.00 [00:00<?, ?B/s]"
      ]
     },
     "metadata": {},
     "output_type": "display_data"
    },
    {
     "data": {
      "application/vnd.jupyter.widget-view+json": {
       "model_id": "c56e5c651c164a70a22a4686ea974abb",
       "version_major": 2,
       "version_minor": 0
      },
      "text/plain": [
       "vocab.txt:   0%|          | 0.00/229k [00:00<?, ?B/s]"
      ]
     },
     "metadata": {},
     "output_type": "display_data"
    },
    {
     "data": {
      "application/vnd.jupyter.widget-view+json": {
       "model_id": "ef87f4aa1f57401eb917f8017f808d78",
       "version_major": 2,
       "version_minor": 0
      },
      "text/plain": [
       "special_tokens_map.json:   0%|          | 0.00/112 [00:00<?, ?B/s]"
      ]
     },
     "metadata": {},
     "output_type": "display_data"
    },
    {
     "data": {
      "application/vnd.jupyter.widget-view+json": {
       "model_id": "57627799e87442c9a3f78a28594c0f9b",
       "version_major": 2,
       "version_minor": 0
      },
      "text/plain": [
       "tokenizer_config.json:   0%|          | 0.00/2.00 [00:00<?, ?B/s]"
      ]
     },
     "metadata": {},
     "output_type": "display_data"
    },
    {
     "data": {
      "application/vnd.jupyter.widget-view+json": {
       "model_id": "468ec907cff148b89676e55d0fccb8dd",
       "version_major": 2,
       "version_minor": 0
      },
      "text/plain": [
       "config.json:   0%|          | 0.00/1.53k [00:00<?, ?B/s]"
      ]
     },
     "metadata": {},
     "output_type": "display_data"
    },
    {
     "data": {
      "application/vnd.jupyter.widget-view+json": {
       "model_id": "1f46beec77af457a985b17ff9f902bf1",
       "version_major": 2,
       "version_minor": 0
      },
      "text/plain": [
       "config.json:   0%|          | 0.00/1.53k [00:00<?, ?B/s]"
      ]
     },
     "metadata": {},
     "output_type": "display_data"
    },
    {
     "data": {
      "application/vnd.jupyter.widget-view+json": {
       "model_id": "34c07e6a3b604e3490ab2c99b47f48cf",
       "version_major": 2,
       "version_minor": 0
      },
      "text/plain": [
       "pytorch_model.bin:   0%|          | 0.00/498M [00:00<?, ?B/s]"
      ]
     },
     "metadata": {},
     "output_type": "display_data"
    },
    {
     "name": "stdout",
     "output_type": "stream",
     "text": [
      "(9296, 5010) (8380,)\n"
     ]
    },
    {
     "data": {
      "application/vnd.jupyter.widget-view+json": {
       "model_id": "9a492ef362004f969df41701ef6c4b11",
       "version_major": 2,
       "version_minor": 0
      },
      "text/plain": [
       "model.safetensors:   0%|          | 0.00/498M [00:00<?, ?B/s]"
      ]
     },
     "metadata": {},
     "output_type": "display_data"
    }
   ],
   "source": [
    "extractor = FeatureExtractor()\n",
    "X = extractor.extract_fused_features_tfidf(df, fit=True)\n",
    "y = (df['label'].str.upper().str.strip() == 'ASD').astype(int).values\n",
    "ling_cols = extractor.linguistic_cols\n",
    "X_ling = df[ling_cols].values\n",
    "oversampler = EmbeddingOversampler()\n",
    "X_embed_bal, X_ling_bal, y_bal = oversampler.oversample(X, X_ling, y)\n",
    "\n",
    "print(X_embed_bal.shape, y.shape)"
   ]
  },
  {
   "cell_type": "code",
   "execution_count": null,
   "id": "8d94b1e4",
   "metadata": {},
   "outputs": [],
   "source": [
    "evaluator = ModelEvaluator(model_type='svm', n_splits= 10, random_state=32)\n",
    "results = evaluator.cross_validate_with_confusionmatrix(X, y)\n"
   ]
  },
  {
   "cell_type": "markdown",
   "id": "948f670c",
   "metadata": {},
   "source": [
    "Testing Model"
   ]
  },
  {
   "cell_type": "code",
   "execution_count": null,
   "id": "5833bf94",
   "metadata": {},
   "outputs": [],
   "source": [
    "trainer = BaselineTrainer(model_type='svm')\n",
    "model = trainer.train(X_embed_bal, y_bal)\n",
    "\n",
    "new_text = \"Apakah kamu suddah makan?\"\n",
    "clean_text = text_preprocessor.preprocess(new_text)\n",
    "X_new = extractor.encode_series_bert([clean_text])\n",
    "predicted_label = model.predict(X_new)[0]\n",
    "print(f\"Predicted label: {predicted_label}\")"
   ]
  },
  {
   "cell_type": "code",
   "execution_count": null,
   "id": "5e0bd345",
   "metadata": {},
   "outputs": [],
   "source": [
    "new_text = \"Apakah kamu sudah makan?\"\n",
    "clean_text = text_preprocessor.preprocess(new_text)\n",
    "X_new = extractor.encode_series_bert([clean_text])\n",
    "predicted_label = model.predict(X_new)[0]\n",
    "print(f\"Predicted label: {predicted_label}\")"
   ]
  },
  {
   "cell_type": "markdown",
   "id": "0d71f328",
   "metadata": {},
   "source": [
    "Bar plot"
   ]
  },
  {
   "cell_type": "code",
   "execution_count": 11,
   "id": "44aeb6cb",
   "metadata": {},
   "outputs": [
    {
     "data": {
      "image/png": "[encoded data removed]",
      "text/plain": [
       "<Figure size 1000x600 with 1 Axes>"
      ]
     },
     "metadata": {},
     "output_type": "display_data"
    }
   ],
   "source": [
    "f1_scores = [0.893, 0.871, 0.887, 0.864, 0.883, 0.875, 0.872, 0.859, 0.857, 0.868] # Adjust this \n",
    "folds = [f'Fold {i+1}' for i in range(10)]\n",
    "\n",
    "plt.figure(figsize=(10, 6))\n",
    "plt.bar(folds, f1_scores, color='skyblue')\n",
    "plt.axhline(y=sum(f1_scores)/len(f1_scores), color='red', linestyle='--', label='Mean F1-score')\n",
    "plt.title('F1-Score per Fold (Oversampled)')\n",
    "plt.xlabel('Fold')\n",
    "plt.ylabel('F1-score')\n",
    "plt.ylim(0.8, 0.9)\n",
    "plt.legend()\n",
    "plt.tight_layout()\n",
    "plt.show()"
   ]
  },
  {
   "cell_type": "markdown",
   "id": "767a0cbd",
   "metadata": {},
   "source": [
    "Line plot"
   ]
  },
  {
   "cell_type": "code",
   "execution_count": 12,
   "id": "f473f8fb",
   "metadata": {},
   "outputs": [
    {
     "data": {
      "image/png": "[encoded data removed]",
      "text/plain": [
       "<Figure size 1200x600 with 1 Axes>"
      ]
     },
     "metadata": {},
     "output_type": "display_data"
    }
   ],
   "source": [
    "accuracy = [0.885, 0.860, 0.883, 0.854, 0.878, 0.865, 0.864, 0.851, 0.854, 0.859]\n",
    "precision = [0.893, 0.871, 0.885, 0.861, 0.881, 0.875, 0.869, 0.856, 0.854, 0.866]\n",
    "recall = [0.885, 0.860, 0.883, 0.854, 0.878, 0.865, 0.864, 0.851, 0.854, 0.859]\n",
    "f1 = [0.893, 0.871, 0.887, 0.864, 0.883, 0.875, 0.872, 0.859, 0.857, 0.868]\n",
    "\n",
    "plt.figure(figsize=(12, 6))\n",
    "plt.plot(folds, accuracy, label='Accuracy', marker='o')\n",
    "plt.plot(folds, precision, label='Precision', marker='o')\n",
    "plt.plot(folds, recall, label='Recall', marker='o')\n",
    "plt.plot(folds, f1, label='F1-score', marker='o')\n",
    "plt.title('Cross-Validation Metrics per Fold')\n",
    "plt.xlabel('Fold')\n",
    "plt.ylabel('Score')\n",
    "plt.ylim(0.8, 0.95)\n",
    "plt.legend()\n",
    "plt.grid(True)\n",
    "plt.tight_layout()\n",
    "plt.show()"
   ]
  },
  {
   "cell_type": "markdown",
   "id": "a350d9cd",
   "metadata": {},
   "source": [
    "Confusion Matrix"
   ]
  },
  {
   "cell_type": "code",
   "execution_count": null,
   "id": "9b3c93a6",
   "metadata": {},
   "outputs": [
    {
     "data": {
      "image/png": "[encoded data removed]",
      "text/plain": [
       "<Figure size 600x500 with 2 Axes>"
      ]
     },
     "metadata": {},
     "output_type": "display_data"
    }
   ],
   "source": [
    "\n",
    "\n",
    "cm = np.array([[378, 87],\n",
    "               [20, 445]])\n",
    "\n",
    "plt.figure(figsize=(6, 5))\n",
    "sns.heatmap(cm, annot=True, fmt='d', cmap='Blues',\n",
    "            xticklabels=['Pred 0', 'Pred 1'], yticklabels=['True 0', 'True 1'])\n",
    "plt.title(\"Confusion Matrix - Best Fold (Fold 1)\")\n",
    "plt.xlabel(\"Predicted Label\")\n",
    "plt.ylabel(\"True Label\")\n",
    "plt.tight_layout()\n",
    "plt.show()"
   ]
  },
  {
   "cell_type": "markdown",
   "id": "1def4dcb",
   "metadata": {},
   "source": [
    "Box plot"
   ]
  },
  {
   "cell_type": "code",
   "execution_count": 15,
   "id": "56a2f068",
   "metadata": {},
   "outputs": [
    {
     "name": "stderr",
     "output_type": "stream",
     "text": [
      "C:\\Users\\MufliDevs\\AppData\\Local\\Temp\\ipykernel_13504\\3202717414.py:10: FutureWarning: \n",
      "\n",
      "Passing `palette` without assigning `hue` is deprecated and will be removed in v0.14.0. Assign the `x` variable to `hue` and set `legend=False` for the same effect.\n",
      "\n",
      "  sns.boxplot(x='Metric', y='Value', data=df_plot, palette='pastel')\n"
     ]
    },
    {
     "data": {
      "image/png": "[encoded data removed]",
      "text/plain": [
       "<Figure size 1000x600 with 1 Axes>"
      ]
     },
     "metadata": {},
     "output_type": "display_data"
    }
   ],
   "source": [
    "\n",
    "data = {\n",
    "    'Fold': folds * 4,\n",
    "    'Metric': ['Accuracy']*10 + ['Precision']*10 + ['Recall']*10 + ['F1-score']*10,\n",
    "    'Value': accuracy + precision + recall + f1\n",
    "}\n",
    "\n",
    "df_plot = pd.DataFrame(data)\n",
    "\n",
    "plt.figure(figsize=(10, 6))\n",
    "sns.boxplot(x='Metric', y='Value', data=df_plot, palette='pastel')\n",
    "sns.swarmplot(x='Metric', y='Value', data=df_plot, color='black', size=4)\n",
    "plt.title(\"Metric Distribution Across Folds\")\n",
    "plt.ylim(0.8, 0.95)\n",
    "plt.tight_layout()\n",
    "plt.show()"
   ]
  }
 ],
 "metadata": {
  "kernelspec": {
   "display_name": "base",
   "language": "python",
   "name": "python3"
  },
  "language_info": {
   "codemirror_mode": {
    "name": "ipython",
    "version": 3
   },
   "file_extension": ".py",
   "mimetype": "text/x-python",
   "name": "python",
   "nbconvert_exporter": "python",
   "pygments_lexer": "ipython3",
   "version": "3.12.7"
  }
 },
 "nbformat": 4,
 "nbformat_minor": 5
}
