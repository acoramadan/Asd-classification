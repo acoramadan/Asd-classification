{
 "cells": [
  {
   "cell_type": "code",
   "execution_count": 1,
   "id": "9bb99836",
   "metadata": {},
   "outputs": [
    {
     "name": "stdout",
     "output_type": "stream",
     "text": [
      "['/usr/lib/python38.zip', '/usr/lib/python3.8', '/usr/lib/python3.8/lib-dynload', '', '/hop/home/muhammad_mufli_ramadhan/tfid/lib/python3.8/site-packages', '..']\n"
     ]
    },
    {
     "name": "stderr",
     "output_type": "stream",
     "text": [
      "/hop/home/muhammad_mufli_ramadhan/tfid/lib/python3.8/site-packages/tqdm/auto.py:21: TqdmWarning: IProgress not found. Please update jupyter and ipywidgets. See https://ipywidgets.readthedocs.io/en/stable/user_install.html\n",
      "  from .autonotebook import tqdm as notebook_tqdm\n"
     ]
    }
   ],
   "source": [
    "import sys\n",
    "import numpy as np\n",
    "import pandas as pd\n",
    "import os\n",
    "sys.path.append('..')\n",
    "print(sys.path)\n",
    "from nlp_pipeline.feature_extraction import FeatureExtractor\n",
    "from nlp_pipeline.preprocess_text import TextPreprocessor\n",
    "from model.evaluate_model import ModelEvaluator\n",
    "from model.train_baseline import BaselineTrainer\n",
    "from interpretation.lime_interpreter import LimeTextInterpreter\n",
    "from interpretation.shap_interpreter import ShapInterpreter"
   ]
  },
  {
   "cell_type": "markdown",
   "id": "62c8d546",
   "metadata": {},
   "source": [
    "Load dataset"
   ]
  },
  {
   "cell_type": "code",
   "execution_count": 2,
   "id": "fa7b718c",
   "metadata": {},
   "outputs": [
    {
     "name": "stdout",
     "output_type": "stream",
     "text": [
      "Index(['interaction_control', 'target_of_utterance', 'seg_id', 'vid_id',\n",
      "       'start_time', 'end_time', 'speaker_id', 'role', 'label',\n",
      "       'transcription', 'duration', 'utterance_type', 'annotation',\n",
      "       'valid_segment', 'total_words', 'unique_words', 'num_sentences',\n",
      "       'stopwords', 'num_adjectives', 'num_nouns', 'num_verbs', 'num_adverbs',\n",
      "       'type_token_ratio', 'avg_words_per_sentence', 'soruce_file'],\n",
      "      dtype='object')\n"
     ]
    },
    {
     "data": {
      "text/plain": [
       "label\n",
       "NON ASD    2324\n",
       "ASD        1244\n",
       "Name: count, dtype: int64"
      ]
     },
     "execution_count": 2,
     "metadata": {},
     "output_type": "execute_result"
    }
   ],
   "source": [
    "df = pd.read_csv('../data/features/1.csv', encoding='latin1')\n",
    "print(df.columns)\n",
    "df['label'] = df['label'].astype(str)\n",
    "df['label'].value_counts()\n",
    "df['label'].value_counts()"
   ]
  },
  {
   "cell_type": "markdown",
   "id": "5151598b",
   "metadata": {},
   "source": [
    "Preprocessing text"
   ]
  },
  {
   "cell_type": "code",
   "execution_count": 3,
   "id": "22c7bd4c",
   "metadata": {},
   "outputs": [
    {
     "data": {
      "text/html": [
       "<div>\n",
       "<style scoped>\n",
       "    .dataframe tbody tr th:only-of-type {\n",
       "        vertical-align: middle;\n",
       "    }\n",
       "\n",
       "    .dataframe tbody tr th {\n",
       "        vertical-align: top;\n",
       "    }\n",
       "\n",
       "    .dataframe thead th {\n",
       "        text-align: right;\n",
       "    }\n",
       "</style>\n",
       "<table border=\"1\" class=\"dataframe\">\n",
       "  <thead>\n",
       "    <tr style=\"text-align: right;\">\n",
       "      <th></th>\n",
       "      <th>transcription</th>\n",
       "      <th>clean_text</th>\n",
       "    </tr>\n",
       "  </thead>\n",
       "  <tbody>\n",
       "    <tr>\n",
       "      <th>0</th>\n",
       "      <td>Tunjuk kaka coba</td>\n",
       "      <td>tunjuk kaka coba</td>\n",
       "    </tr>\n",
       "    <tr>\n",
       "      <th>1</th>\n",
       "      <td>Inii!</td>\n",
       "      <td>ini</td>\n",
       "    </tr>\n",
       "    <tr>\n",
       "      <th>2</th>\n",
       "      <td>Siapa namamu?</td>\n",
       "      <td>siapa nama</td>\n",
       "    </tr>\n",
       "    <tr>\n",
       "      <th>3</th>\n",
       "      <td>Iyaaaa?</td>\n",
       "      <td></td>\n",
       "    </tr>\n",
       "    <tr>\n",
       "      <th>4</th>\n",
       "      <td>Kenalan duluu!</td>\n",
       "      <td>kenal duluu</td>\n",
       "    </tr>\n",
       "  </tbody>\n",
       "</table>\n",
       "</div>"
      ],
      "text/plain": [
       "      transcription        clean_text\n",
       "0  Tunjuk kaka coba  tunjuk kaka coba\n",
       "1             Inii!               ini\n",
       "2     Siapa namamu?        siapa nama\n",
       "3           Iyaaaa?                  \n",
       "4    Kenalan duluu!       kenal duluu"
      ]
     },
     "execution_count": 3,
     "metadata": {},
     "output_type": "execute_result"
    }
   ],
   "source": [
    "text_preprocessor = TextPreprocessor()\n",
    "df['clean_text'] = df['transcription'].apply(text_preprocessor.preprocess)\n",
    "df[['transcription', 'clean_text']].head()"
   ]
  },
  {
   "cell_type": "markdown",
   "id": "56c1d86e",
   "metadata": {},
   "source": [
    "Ekstraksi fitur with TFIDF"
   ]
  },
  {
   "cell_type": "code",
   "execution_count": 6,
   "id": "95046e18",
   "metadata": {},
   "outputs": [
    {
     "name": "stdout",
     "output_type": "stream",
     "text": [
      "(3568, 4437) (3568,)\n"
     ]
    }
   ],
   "source": [
    "extractor = FeatureExtractor()\n",
    "X = extractor.fit_transform_tfidf(df['clean_text'])\n",
    "y = df['label'].values\n",
    "print(X.shape, y.shape)"
   ]
  },
  {
   "cell_type": "markdown",
   "id": "2bdeb2d6",
   "metadata": {},
   "source": [
    "Ekstraksi fitur with IndoBERT"
   ]
  },
  {
   "cell_type": "code",
   "execution_count": 4,
   "id": "8a2939d8",
   "metadata": {},
   "outputs": [
    {
     "name": "stdout",
     "output_type": "stream",
     "text": [
      "(3568, 768) (3568,)\n"
     ]
    }
   ],
   "source": [
    "extractor = FeatureExtractor()\n",
    "X = extractor.encode_series_bert(df['clean_text'])\n",
    "y = df['label'].values\n",
    "print(X.shape, y.shape)"
   ]
  },
  {
   "cell_type": "markdown",
   "id": "1b0ec845",
   "metadata": {},
   "source": [
    "SVC WITH 5 FOLD"
   ]
  },
  {
   "cell_type": "code",
   "execution_count": null,
   "id": "7c5fa12a",
   "metadata": {},
   "outputs": [],
   "source": [
    "trainer = BaselineTrainer()\n",
    "\n",
    "evaluator = ModelEvaluator(model_type='svm')\n",
    "\n",
    "results = evaluator.cross_validate(X,y)"
   ]
  },
  {
   "cell_type": "markdown",
   "id": "6180171f",
   "metadata": {},
   "source": [
    "USE THIS IF YOU NOT USING BERT"
   ]
  },
  {
   "cell_type": "code",
   "execution_count": null,
   "id": "cf2d372e",
   "metadata": {},
   "outputs": [],
   "source": [
    "final_model = trainer.train(X, y)\n",
    "\n",
    "lime_interpreter = LimeTextInterpreter(\n",
    "    model=final_model,\n",
    "    vectorizer=extractor.get_tfidf_vectorizer(),\n",
    "    class_names=['NON ASD', 'ASD']\n",
    ")\n",
    "\n",
    "asd_samples = df[df['label'] == 'ASD'].sample(n=12, random_state=42)\n",
    "non_asd_samples = df[df['label'] == 'NON ASD'].sample(n=12, random_state=42)\n",
    "lime_samples = pd.concat([asd_samples, non_asd_samples]).reset_index(drop=True)\n",
    "\n",
    "lime_interpreter.save_lime_explanation_to_csv(lime_samples,\"../reports/lime_results.csv\")"
   ]
  },
  {
   "cell_type": "code",
   "execution_count": null,
   "id": "bb513db3",
   "metadata": {},
   "outputs": [],
   "source": [
    "final_model = BaselineTrainer('svm').train(X,y)\n",
    "interpreter = ShapInterpreter(model=final_model)\n",
    "sampled_df = df.sample(n=100, random_state=42)\n",
    "texts = sampled_df['clean_text'].tolist()\n",
    "labels = sampled_df['label'].tolist()\n",
    "\n",
    "shap_values = interpreter.explain(texts)\n",
    "interpreter.save_shap_explanations_to_csv(\n",
    "    shap_values=shap_values,\n",
    "    texts=texts,\n",
    "    output_path=\"../reports/shap_results_SVM.csv\",\n",
    "    true_labels=labels\n",
    ")"
   ]
  },
  {
   "cell_type": "markdown",
   "id": "a33e7b83",
   "metadata": {},
   "source": [
    "LINEAR REGRETION WITH 5 FOLD"
   ]
  },
  {
   "cell_type": "code",
   "execution_count": null,
   "id": "6f0cd2fb",
   "metadata": {},
   "outputs": [],
   "source": [
    "trainer = BaselineTrainer()\n",
    "evaluator = ModelEvaluator()\n",
    "\n",
    "results = evaluator.cross_validate(X,y)"
   ]
  },
  {
   "cell_type": "code",
   "execution_count": 10,
   "id": "dbf5bb6a",
   "metadata": {},
   "outputs": [
    {
     "name": "stdout",
     "output_type": "stream",
     "text": [
      "Berhasil menyimpan!\n"
     ]
    }
   ],
   "source": [
    "final_model = trainer.train(X, y)\n",
    "\n",
    "lime_interpreter = LimeTextInterpreter(\n",
    "    model=final_model,\n",
    "    vectorizer=extractor.get_tfidf_vectorizer(),\n",
    "    class_names=['NON ASD', 'ASD']\n",
    ")\n",
    "\n",
    "asd_samples = df[df['label'] == 'ASD'].sample(n=12, random_state=42)\n",
    "non_asd_samples = df[df['label'] == 'NON ASD'].sample(n=12, random_state=42)\n",
    "lime_samples = pd.concat([asd_samples, non_asd_samples]).reset_index(drop=True)\n",
    "\n",
    "lime_interpreter.save_lime_explanation_to_csv(lime_samples,\"../reports/lime_results_LOGRES.csv\")"
   ]
  },
  {
   "cell_type": "markdown",
   "id": "5fcfd065",
   "metadata": {},
   "source": [
    "SVM WITH 10 FOLD"
   ]
  },
  {
   "cell_type": "code",
   "execution_count": null,
   "id": "59c1ca05",
   "metadata": {},
   "outputs": [],
   "source": [
    "trainer = BaselineTrainer()\n",
    "evaluator = ModelEvaluator(model_type='svm', n_splits= 10, random_state=32)\n",
    "\n",
    "results = evaluator.cross_validate(X,y)"
   ]
  },
  {
   "cell_type": "code",
   "execution_count": 1,
   "id": "f5a547db",
   "metadata": {},
   "outputs": [
    {
     "ename": "NameError",
     "evalue": "name 'trainer' is not defined",
     "output_type": "error",
     "traceback": [
      "\u001b[0;31m---------------------------------------------------------------------------\u001b[0m",
      "\u001b[0;31mNameError\u001b[0m                                 Traceback (most recent call last)",
      "Cell \u001b[0;32mIn[1], line 1\u001b[0m\n\u001b[0;32m----> 1\u001b[0m final_model \u001b[38;5;241m=\u001b[39m \u001b[43mtrainer\u001b[49m\u001b[38;5;241m.\u001b[39mtrain(X, y)\n\u001b[1;32m      3\u001b[0m lime_interpreter \u001b[38;5;241m=\u001b[39m LimeTextInterpreter(\n\u001b[1;32m      4\u001b[0m     model\u001b[38;5;241m=\u001b[39mfinal_model,\n\u001b[1;32m      5\u001b[0m     vectorizer\u001b[38;5;241m=\u001b[39mextractor\u001b[38;5;241m.\u001b[39mget_tfidf_vectorizer(),\n\u001b[1;32m      6\u001b[0m     class_names\u001b[38;5;241m=\u001b[39m[\u001b[38;5;124m'\u001b[39m\u001b[38;5;124mNON ASD\u001b[39m\u001b[38;5;124m'\u001b[39m, \u001b[38;5;124m'\u001b[39m\u001b[38;5;124mASD\u001b[39m\u001b[38;5;124m'\u001b[39m]\n\u001b[1;32m      7\u001b[0m )\n\u001b[1;32m      9\u001b[0m asd_samples \u001b[38;5;241m=\u001b[39m df[df[\u001b[38;5;124m'\u001b[39m\u001b[38;5;124mlabel\u001b[39m\u001b[38;5;124m'\u001b[39m] \u001b[38;5;241m==\u001b[39m \u001b[38;5;124m'\u001b[39m\u001b[38;5;124mASD\u001b[39m\u001b[38;5;124m'\u001b[39m]\u001b[38;5;241m.\u001b[39msample(n\u001b[38;5;241m=\u001b[39m\u001b[38;5;241m12\u001b[39m, random_state\u001b[38;5;241m=\u001b[39m\u001b[38;5;241m42\u001b[39m)\n",
      "\u001b[0;31mNameError\u001b[0m: name 'trainer' is not defined"
     ]
    }
   ],
   "source": [
    "final_model = trainer.train(X, y)\n",
    "\n",
    "lime_interpreter = LimeTextInterpreter(\n",
    "    model=final_model,\n",
    "    vectorizer=extractor.get_tfidf_vectorizer(),\n",
    "    class_names=['NON ASD', 'ASD']\n",
    ")\n",
    "\n",
    "asd_samples = df[df['label'] == 'ASD'].sample(n=12, random_state=42)\n",
    "non_asd_samples = df[df['label'] == 'NON ASD'].sample(n=12, random_state=42)\n",
    "lime_samples = pd.concat([asd_samples, non_asd_samples]).reset_index(drop=True)\n",
    "\n",
    "lime_interpreter.save_lime_explanation_to_csv(lime_samples,\"../reports/lime_results_SVM10FOLD.csv\")"
   ]
  },
  {
   "cell_type": "code",
   "execution_count": null,
   "id": "ce509fde",
   "metadata": {},
   "outputs": [],
   "source": [
    "final_model = BaselineTrainer('svm').train(X,y)\n",
    "interpreter = ShapInterpreter(model=final_model)\n",
    "sampled_df = df.sample(n=100, random_state=42)\n",
    "texts = sampled_df['clean_text'].tolist()\n",
    "labels = sampled_df['label'].tolist()\n",
    "\n",
    "shap_values = interpreter.explain(texts)\n",
    "interpreter.save_shap_explanations_to_csv(\n",
    "    shap_values=shap_values,\n",
    "    texts=texts,\n",
    "    output_path=\"../reports/shap_results_SVM_10_fold.csv\",\n",
    "    true_labels=labels\n",
    ")"
   ]
  },
  {
   "cell_type": "markdown",
   "id": "ac0fb88c",
   "metadata": {},
   "source": [
    "LINEAR REGRETION WITH 10 FOLD"
   ]
  },
  {
   "cell_type": "code",
   "execution_count": null,
   "id": "a98b0d88",
   "metadata": {},
   "outputs": [],
   "source": [
    "trainer = BaselineTrainer()\n",
    "evaluator = ModelEvaluator(n_splits= 10, random_state=32)\n",
    "\n",
    "results = evaluator.cross_validate(X,y)"
   ]
  },
  {
   "cell_type": "code",
   "execution_count": null,
   "id": "74c09c7d",
   "metadata": {},
   "outputs": [],
   "source": [
    "final_model = BaselineTrainer('svm').train(X,y)\n",
    "interpreter = ShapInterpreter(model=final_model)\n",
    "sampled_df = df.sample(n=100, random_state=42)\n",
    "texts = sampled_df['clean_text'].tolist()\n",
    "labels = sampled_df['label'].tolist()\n",
    "\n",
    "shap_values = interpreter.explain(texts)\n",
    "interpreter.save_shap_explanations_to_csv(\n",
    "    shap_values=shap_values,\n",
    "    texts=texts,\n",
    "    output_path=\"../reports/shap_results_Logres_10_fold.csv\",\n",
    "    true_labels=labels\n",
    ")\n"
   ]
  },
  {
   "cell_type": "code",
   "execution_count": null,
   "id": "365ce051",
   "metadata": {},
   "outputs": [],
   "source": [
    "interpreter.visualize(shap_values= shap_values)"
   ]
  },
  {
   "cell_type": "markdown",
   "id": "502c494a",
   "metadata": {},
   "source": [
    "FUSION"
   ]
  },
  {
   "cell_type": "code",
   "execution_count": 4,
   "id": "c9582256",
   "metadata": {},
   "outputs": [],
   "source": [
    "extractor = FeatureExtractor()\n",
    "X = extractor.extract_fused_features_bert(df)\n",
    "y = df['label'].values"
   ]
  },
  {
   "cell_type": "code",
   "execution_count": 5,
   "id": "8d94b1e4",
   "metadata": {},
   "outputs": [
    {
     "name": "stdout",
     "output_type": "stream",
     "text": [
      "\n",
      " Fold 1\n",
      "              precision    recall  f1-score   support\n",
      "\n",
      "         ASD      0.630     0.742     0.681       124\n",
      "     NON ASD      0.848     0.768     0.806       233\n",
      "\n",
      "    accuracy                          0.759       357\n",
      "   macro avg      0.739     0.755     0.744       357\n",
      "weighted avg      0.773     0.759     0.763       357\n",
      "\n",
      "Confusion Matrix:\n",
      " [[ 92  32]\n",
      " [ 54 179]]\n",
      "Confusion Matrix (Fold 1):\n",
      "[[ 92  32]\n",
      " [ 54 179]]\n",
      "\n",
      " Fold 2\n",
      "              precision    recall  f1-score   support\n",
      "\n",
      "         ASD      0.684     0.734     0.708       124\n",
      "     NON ASD      0.853     0.820     0.836       233\n",
      "\n",
      "    accuracy                          0.790       357\n",
      "   macro avg      0.768     0.777     0.772       357\n",
      "weighted avg      0.794     0.790     0.792       357\n",
      "\n",
      "Confusion Matrix:\n",
      " [[ 91  33]\n",
      " [ 42 191]]\n",
      "Confusion Matrix (Fold 2):\n",
      "[[ 91  33]\n",
      " [ 42 191]]\n",
      "\n",
      " Fold 3\n",
      "              precision    recall  f1-score   support\n",
      "\n",
      "         ASD      0.688     0.694     0.691       124\n",
      "     NON ASD      0.836     0.833     0.834       233\n",
      "\n",
      "    accuracy                          0.784       357\n",
      "   macro avg      0.762     0.763     0.763       357\n",
      "weighted avg      0.785     0.784     0.785       357\n",
      "\n",
      "Confusion Matrix:\n",
      " [[ 86  38]\n",
      " [ 39 194]]\n",
      "Confusion Matrix (Fold 3):\n",
      "[[ 86  38]\n",
      " [ 39 194]]\n",
      "\n",
      " Fold 4\n",
      "              precision    recall  f1-score   support\n",
      "\n",
      "         ASD      0.701     0.758     0.729       124\n",
      "     NON ASD      0.865     0.828     0.846       233\n",
      "\n",
      "    accuracy                          0.804       357\n",
      "   macro avg      0.783     0.793     0.788       357\n",
      "weighted avg      0.809     0.804     0.806       357\n",
      "\n",
      "Confusion Matrix:\n",
      " [[ 94  30]\n",
      " [ 40 193]]\n",
      "Confusion Matrix (Fold 4):\n",
      "[[ 94  30]\n",
      " [ 40 193]]\n",
      "\n",
      " Fold 5\n",
      "              precision    recall  f1-score   support\n",
      "\n",
      "         ASD      0.723     0.688     0.705       125\n",
      "     NON ASD      0.836     0.858     0.847       232\n",
      "\n",
      "    accuracy                          0.798       357\n",
      "   macro avg      0.779     0.773     0.776       357\n",
      "weighted avg      0.796     0.798     0.797       357\n",
      "\n",
      "Confusion Matrix:\n",
      " [[ 86  39]\n",
      " [ 33 199]]\n",
      "Confusion Matrix (Fold 5):\n",
      "[[ 86  39]\n",
      " [ 33 199]]\n",
      "\n",
      " Fold 6\n",
      "              precision    recall  f1-score   support\n",
      "\n",
      "         ASD      0.694     0.744     0.718       125\n",
      "     NON ASD      0.857     0.823     0.840       232\n",
      "\n",
      "    accuracy                          0.796       357\n",
      "   macro avg      0.775     0.784     0.779       357\n",
      "weighted avg      0.800     0.796     0.797       357\n",
      "\n",
      "Confusion Matrix:\n",
      " [[ 93  32]\n",
      " [ 41 191]]\n",
      "Confusion Matrix (Fold 6):\n",
      "[[ 93  32]\n",
      " [ 41 191]]\n",
      "\n",
      " Fold 7\n",
      "              precision    recall  f1-score   support\n",
      "\n",
      "         ASD      0.691     0.752     0.720       125\n",
      "     NON ASD      0.860     0.819     0.839       232\n",
      "\n",
      "    accuracy                          0.796       357\n",
      "   macro avg      0.775     0.785     0.780       357\n",
      "weighted avg      0.801     0.796     0.797       357\n",
      "\n",
      "Confusion Matrix:\n",
      " [[ 94  31]\n",
      " [ 42 190]]\n",
      "Confusion Matrix (Fold 7):\n",
      "[[ 94  31]\n",
      " [ 42 190]]\n",
      "\n",
      " Fold 8\n",
      "              precision    recall  f1-score   support\n",
      "\n",
      "         ASD      0.660     0.776     0.713       125\n",
      "     NON ASD      0.867     0.784     0.824       232\n",
      "\n",
      "    accuracy                          0.782       357\n",
      "   macro avg      0.763     0.780     0.768       357\n",
      "weighted avg      0.794     0.782     0.785       357\n",
      "\n",
      "Confusion Matrix:\n",
      " [[ 97  28]\n",
      " [ 50 182]]\n",
      "Confusion Matrix (Fold 8):\n",
      "[[ 97  28]\n",
      " [ 50 182]]\n",
      "\n",
      " Fold 9\n",
      "              precision    recall  f1-score   support\n",
      "\n",
      "         ASD      0.701     0.758     0.729       124\n",
      "     NON ASD      0.865     0.828     0.846       232\n",
      "\n",
      "    accuracy                          0.803       356\n",
      "   macro avg      0.783     0.793     0.787       356\n",
      "weighted avg      0.808     0.803     0.805       356\n",
      "\n",
      "Confusion Matrix:\n",
      " [[ 94  30]\n",
      " [ 40 192]]\n",
      "Confusion Matrix (Fold 9):\n",
      "[[ 94  30]\n",
      " [ 40 192]]\n",
      "\n",
      " Fold 10\n",
      "              precision    recall  f1-score   support\n",
      "\n",
      "         ASD      0.682     0.726     0.703       124\n",
      "     NON ASD      0.848     0.819     0.833       232\n",
      "\n",
      "    accuracy                          0.787       356\n",
      "   macro avg      0.765     0.772     0.768       356\n",
      "weighted avg      0.790     0.787     0.788       356\n",
      "\n",
      "Confusion Matrix:\n",
      " [[ 90  34]\n",
      " [ 42 190]]\n",
      "Confusion Matrix (Fold 10):\n",
      "[[ 90  34]\n",
      " [ 42 190]]\n",
      "\n",
      "Mean Metrics:\n",
      "Accuracy : 0.7898\n",
      "Precision: 0.6855\n",
      "Recall   : 0.7371\n",
      "F1       : 0.7098\n",
      "\n",
      "Best Fold: Fold 4 with F1-score = 0.7287\n"
     ]
    }
   ],
   "source": [
    "evaluator = ModelEvaluator(model_type='svm', n_splits= 10, random_state=32)\n",
    "results = evaluator.cross_validate_with_confusionmatrix(X, y)\n"
   ]
  },
  {
   "cell_type": "markdown",
   "id": "948f670c",
   "metadata": {},
   "source": [
    "Testing Model"
   ]
  },
  {
   "cell_type": "code",
   "execution_count": 5,
   "id": "5833bf94",
   "metadata": {},
   "outputs": [
    {
     "name": "stdout",
     "output_type": "stream",
     "text": [
      "Predicted label: NON ASD\n"
     ]
    }
   ],
   "source": [
    "trainer = BaselineTrainer(model_type='svm')\n",
    "model = trainer.train(X, y)\n",
    "\n",
    "new_text = \"Apakah kamu suddah makan?\"\n",
    "clean_text = text_preprocessor.preprocess(new_text)\n",
    "X_new = extractor.encode_series_bert([clean_text])\n",
    "predicted_label = model.predict(X_new)[0]\n",
    "print(f\"Predicted label: {predicted_label}\")"
   ]
  },
  {
   "cell_type": "code",
   "execution_count": 9,
   "id": "5e0bd345",
   "metadata": {},
   "outputs": [
    {
     "name": "stdout",
     "output_type": "stream",
     "text": [
      "Predicted label: ASD\n"
     ]
    }
   ],
   "source": [
    "new_text = \"Aku takut aku takut aku takut aku takut aku takut aku takut aku takut\"\n",
    "clean_text = text_preprocessor.preprocess(new_text)\n",
    "X_new = extractor.encode_series_bert([clean_text])\n",
    "predicted_label = model.predict(X_new)[0]\n",
    "print(f\"Predicted label: {predicted_label}\")"
   ]
  }
 ],
 "metadata": {
  "kernelspec": {
   "display_name": "tfid",
   "language": "python",
   "name": "python3"
  },
  "language_info": {
   "codemirror_mode": {
    "name": "ipython",
    "version": 3
   },
   "file_extension": ".py",
   "mimetype": "text/x-python",
   "name": "python",
   "nbconvert_exporter": "python",
   "pygments_lexer": "ipython3",
   "version": "3.8.10"
  }
 },
 "nbformat": 4,
 "nbformat_minor": 5
}
