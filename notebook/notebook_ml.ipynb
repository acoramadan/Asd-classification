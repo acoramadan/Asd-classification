{
 "cells": [
  {
   "cell_type": "code",
   "execution_count": 2,
   "id": "9bb99836",
   "metadata": {},
   "outputs": [
    {
     "name": "stdout",
     "output_type": "stream",
     "text": [
      "['d:\\\\aco\\\\research\\\\Asd-classification\\\\notebook', 'c:\\\\Users\\\\MufliDevs\\\\anaconda3\\\\python312.zip', 'c:\\\\Users\\\\MufliDevs\\\\anaconda3\\\\DLLs', 'c:\\\\Users\\\\MufliDevs\\\\anaconda3\\\\Lib', 'c:\\\\Users\\\\MufliDevs\\\\anaconda3', '', 'c:\\\\Users\\\\MufliDevs\\\\anaconda3\\\\Lib\\\\site-packages', 'c:\\\\Users\\\\MufliDevs\\\\anaconda3\\\\Lib\\\\site-packages\\\\win32', 'c:\\\\Users\\\\MufliDevs\\\\anaconda3\\\\Lib\\\\site-packages\\\\win32\\\\lib', 'c:\\\\Users\\\\MufliDevs\\\\anaconda3\\\\Lib\\\\site-packages\\\\Pythonwin', 'c:\\\\Users\\\\MufliDevs\\\\anaconda3\\\\Lib\\\\site-packages\\\\setuptools\\\\_vendor', '..']\n"
     ]
    }
   ],
   "source": [
    "import sys\n",
    "import numpy as np\n",
    "import pandas as pd\n",
    "import os\n",
    "import matplotlib.pyplot as plt\n",
    "import seaborn as sns\n",
    "from sklearn.metrics import ConfusionMatrixDisplay\n",
    "sys.path.append('..')\n",
    "print(sys.path)\n",
    "from nlp_pipeline.feature_extraction import FeatureExtractor\n",
    "from nlp_pipeline.preprocess_text import TextPreprocessor\n",
    "from model.evaluate_model import ModelEvaluator\n",
    "from model.train_baseline import BaselineTrainer\n",
    "from interpretation.lime_interpreter import LimeTextInterpreter\n",
    "from interpretation.shap_interpreter import ShapInterpreter\n",
    "from nlp_pipeline.back_translator import BackTranslationAugmentor\n",
    "from nlp_pipeline.embedding_oversample import EmbeddingOversampler"
   ]
  },
  {
   "cell_type": "markdown",
   "id": "62c8d546",
   "metadata": {},
   "source": [
    "Load dataset + Augmented"
   ]
  },
  {
   "cell_type": "code",
   "execution_count": null,
   "id": "72694a2e",
   "metadata": {},
   "outputs": [],
   "source": [
    "df = df = pd.read_csv('../data/feature/merged_final.csv', encoding='latin1')\n",
    "columns = ['label', 'transcription', 'total_words', 'unique_words', 'num_sentences',\n",
    "                   'stopwords', 'num_adjectives', 'num_nouns', 'num_verbs', 'num_adverbs',\n",
    "                   'type_token_ratio', 'avg_words_per_sentence']\n",
    "df = df[columns]\n",
    "augmentor = BackTranslationAugmentor()\n",
    "df_augmented = augmentor.augment_dataframe(df)\n",
    "print(df_augmented.head)\n",
    "df_augmented.to_csv('../data/feature/1_augmented.csv', index=False)"
   ]
  },
  {
   "cell_type": "markdown",
   "id": "5151598b",
   "metadata": {},
   "source": [
    "Preprocessing text"
   ]
  },
  {
   "cell_type": "code",
   "execution_count": 3,
   "id": "22c7bd4c",
   "metadata": {},
   "outputs": [
    {
     "data": {
      "text/html": [
       "<div>\n",
       "<style scoped>\n",
       "    .dataframe tbody tr th:only-of-type {\n",
       "        vertical-align: middle;\n",
       "    }\n",
       "\n",
       "    .dataframe tbody tr th {\n",
       "        vertical-align: top;\n",
       "    }\n",
       "\n",
       "    .dataframe thead th {\n",
       "        text-align: right;\n",
       "    }\n",
       "</style>\n",
       "<table border=\"1\" class=\"dataframe\">\n",
       "  <thead>\n",
       "    <tr style=\"text-align: right;\">\n",
       "      <th></th>\n",
       "      <th>transcription</th>\n",
       "      <th>clean_text</th>\n",
       "    </tr>\n",
       "  </thead>\n",
       "  <tbody>\n",
       "    <tr>\n",
       "      <th>0</th>\n",
       "      <td>Tunjuk kaka coba</td>\n",
       "      <td>tunjuk kaka coba</td>\n",
       "    </tr>\n",
       "    <tr>\n",
       "      <th>1</th>\n",
       "      <td>Inii!</td>\n",
       "      <td>ini</td>\n",
       "    </tr>\n",
       "    <tr>\n",
       "      <th>2</th>\n",
       "      <td>Siapa namamu?</td>\n",
       "      <td>siapa nama</td>\n",
       "    </tr>\n",
       "    <tr>\n",
       "      <th>3</th>\n",
       "      <td>Iyaaaa?</td>\n",
       "      <td></td>\n",
       "    </tr>\n",
       "    <tr>\n",
       "      <th>4</th>\n",
       "      <td>Kenalan duluu!</td>\n",
       "      <td>kenal duluu</td>\n",
       "    </tr>\n",
       "  </tbody>\n",
       "</table>\n",
       "</div>"
      ],
      "text/plain": [
       "      transcription        clean_text\n",
       "0  Tunjuk kaka coba  tunjuk kaka coba\n",
       "1             Inii!               ini\n",
       "2     Siapa namamu?        siapa nama\n",
       "3           Iyaaaa?                  \n",
       "4    Kenalan duluu!       kenal duluu"
      ]
     },
     "execution_count": 3,
     "metadata": {},
     "output_type": "execute_result"
    }
   ],
   "source": [
    "df = df = pd.read_csv('../data/feature/combined_augmented_asd.csv', encoding='latin1')\n",
    "text_preprocessor = TextPreprocessor()\n",
    "df['clean_text'] = df['transcription'].apply(text_preprocessor.preprocess)\n",
    "df[['transcription', 'clean_text']].head()"
   ]
  },
  {
   "cell_type": "code",
   "execution_count": 9,
   "id": "7134a946",
   "metadata": {},
   "outputs": [
    {
     "data": {
      "text/plain": [
       "8380"
      ]
     },
     "execution_count": 9,
     "metadata": {},
     "output_type": "execute_result"
    }
   ],
   "source": [
    "df['clean_text'].size"
   ]
  },
  {
   "cell_type": "code",
   "execution_count": 10,
   "id": "0cad1818",
   "metadata": {},
   "outputs": [
    {
     "data": {
      "text/plain": [
       "label\n",
       "NON ASD    4648\n",
       "ASD        3732\n",
       "Name: count, dtype: int64"
      ]
     },
     "execution_count": 10,
     "metadata": {},
     "output_type": "execute_result"
    }
   ],
   "source": [
    "df['label'].value_counts()\n",
    "df['label'].value_counts()"
   ]
  },
  {
   "cell_type": "markdown",
   "id": "56c1d86e",
   "metadata": {},
   "source": [
    "Ekstraksi fitur with TFIDF"
   ]
  },
  {
   "cell_type": "code",
   "execution_count": null,
   "id": "95046e18",
   "metadata": {},
   "outputs": [],
   "source": [
    "extractor = FeatureExtractor()\n",
    "X = extractor.fit_transform_tfidf(df['clean_text'])\n",
    "y = df['label'].values\n",
    "print(X.shape, y.shape)"
   ]
  },
  {
   "cell_type": "markdown",
   "id": "2f96aad2",
   "metadata": {},
   "source": [
    "Oversampling with TFIDF"
   ]
  },
  {
   "cell_type": "code",
   "execution_count": null,
   "id": "7520d541",
   "metadata": {},
   "outputs": [],
   "source": [
    "X_dense = extractor.fit_transform_tfidf(df['clean_text']).toarray()\n",
    "\n",
    "ling_cols = extractor.linguistic_cols\n",
    "X_ling = df[ling_cols].values\n",
    "\n",
    "y = (df['label'].str.upper().str.strip() == 'ASD').astype(int).values\n",
    "\n",
    "oversampler = EmbeddingOversampler()\n",
    "X_embed_bal, X_ling_bal, y_bal = oversampler.oversample(X_dense, X_ling, y)\n"
   ]
  },
  {
   "cell_type": "markdown",
   "id": "2bdeb2d6",
   "metadata": {},
   "source": [
    "Ekstraksi fitur with IndoBERT"
   ]
  },
  {
   "cell_type": "code",
   "execution_count": 4,
   "id": "8a2939d8",
   "metadata": {},
   "outputs": [
    {
     "data": {
      "application/vnd.jupyter.widget-view+json": {
       "model_id": "455c22d2ee08406eb108c520796f9db8",
       "version_major": 2,
       "version_minor": 0
      },
      "text/plain": [
       "tokenizer_config.json:   0%|          | 0.00/2.00 [00:00<?, ?B/s]"
      ]
     },
     "metadata": {},
     "output_type": "display_data"
    },
    {
     "data": {
      "application/vnd.jupyter.widget-view+json": {
       "model_id": "2e3cd56d1cf44416b517cd4352fdca3a",
       "version_major": 2,
       "version_minor": 0
      },
      "text/plain": [
       "config.json:   0%|          | 0.00/1.53k [00:00<?, ?B/s]"
      ]
     },
     "metadata": {},
     "output_type": "display_data"
    },
    {
     "data": {
      "application/vnd.jupyter.widget-view+json": {
       "model_id": "e808524d0c4141c4976398aa9d64ff63",
       "version_major": 2,
       "version_minor": 0
      },
      "text/plain": [
       "tokenizer_config.json:   0%|          | 0.00/2.00 [00:00<?, ?B/s]"
      ]
     },
     "metadata": {},
     "output_type": "display_data"
    },
    {
     "data": {
      "application/vnd.jupyter.widget-view+json": {
       "model_id": "f97bfea9cb2f441d967e00c1417b8214",
       "version_major": 2,
       "version_minor": 0
      },
      "text/plain": [
       "vocab.txt:   0%|          | 0.00/229k [00:00<?, ?B/s]"
      ]
     },
     "metadata": {},
     "output_type": "display_data"
    },
    {
     "data": {
      "application/vnd.jupyter.widget-view+json": {
       "model_id": "93d53846cec7414db5dd2d9bcb9e9675",
       "version_major": 2,
       "version_minor": 0
      },
      "text/plain": [
       "special_tokens_map.json:   0%|          | 0.00/112 [00:00<?, ?B/s]"
      ]
     },
     "metadata": {},
     "output_type": "display_data"
    },
    {
     "data": {
      "application/vnd.jupyter.widget-view+json": {
       "model_id": "1e55e116b4f8476bae9f870ca35f91d7",
       "version_major": 2,
       "version_minor": 0
      },
      "text/plain": [
       "tokenizer_config.json:   0%|          | 0.00/2.00 [00:00<?, ?B/s]"
      ]
     },
     "metadata": {},
     "output_type": "display_data"
    },
    {
     "data": {
      "application/vnd.jupyter.widget-view+json": {
       "model_id": "8bbbfbb465194f2280e96bd349481663",
       "version_major": 2,
       "version_minor": 0
      },
      "text/plain": [
       "config.json:   0%|          | 0.00/1.53k [00:00<?, ?B/s]"
      ]
     },
     "metadata": {},
     "output_type": "display_data"
    },
    {
     "data": {
      "application/vnd.jupyter.widget-view+json": {
       "model_id": "8ca051921d1849f399f9fc5d1ca967df",
       "version_major": 2,
       "version_minor": 0
      },
      "text/plain": [
       "config.json:   0%|          | 0.00/1.53k [00:00<?, ?B/s]"
      ]
     },
     "metadata": {},
     "output_type": "display_data"
    },
    {
     "data": {
      "application/vnd.jupyter.widget-view+json": {
       "model_id": "72278fb8bd2044c18dc871137890797a",
       "version_major": 2,
       "version_minor": 0
      },
      "text/plain": [
       "pytorch_model.bin:   0%|          | 0.00/498M [00:00<?, ?B/s]"
      ]
     },
     "metadata": {},
     "output_type": "display_data"
    },
    {
     "data": {
      "application/vnd.jupyter.widget-view+json": {
       "model_id": "2a2e190038ad44069aeb9b23f0431312",
       "version_major": 2,
       "version_minor": 0
      },
      "text/plain": [
       "model.safetensors:   0%|          | 0.00/498M [00:00<?, ?B/s]"
      ]
     },
     "metadata": {},
     "output_type": "display_data"
    },
    {
     "name": "stdout",
     "output_type": "stream",
     "text": [
      "{0: 4648, 1: 3732}\n",
      "Before Oversampling: Counter({0: 4648, 1: 3732})\n",
      "After Oversampling : Counter({0: 4648, 1: 4648})\n",
      "(9296, 768) (9296,)\n"
     ]
    }
   ],
   "source": [
    "extractor = FeatureExtractor()\n",
    "y = (df['label'].str.upper().str.strip() == 'ASD').astype(int).values\n",
    "X = extractor.encode_series_bert(df['clean_text'][:len(df['label'])])\n",
    "unique, counts = np.unique(y, return_counts=True)\n",
    "print(dict(zip(unique, counts)))\n",
    "\n",
    "ling_cols = extractor.linguistic_cols\n",
    "X_ling = df[ling_cols].values[:len(y)]\n",
    "\n",
    "oversampler = EmbeddingOversampler()\n",
    "X_embed_bal, X_ling_bal, y_bal = oversampler.oversample(X, X_ling, y)\n",
    "\n",
    "print(X_embed_bal.shape, y_bal.shape)"
   ]
  },
  {
   "cell_type": "code",
   "execution_count": 11,
   "id": "930dea5e",
   "metadata": {},
   "outputs": [
    {
     "name": "stdout",
     "output_type": "stream",
     "text": [
      "(9296, 768) (9296,)\n"
     ]
    }
   ],
   "source": [
    "print(X_embed_bal.shape, y_bal.shape)"
   ]
  },
  {
   "cell_type": "markdown",
   "id": "1b0ec845",
   "metadata": {},
   "source": [
    "SVC WITH 5 FOLD"
   ]
  },
  {
   "cell_type": "code",
   "execution_count": null,
   "id": "7c5fa12a",
   "metadata": {},
   "outputs": [],
   "source": [
    "trainer = BaselineTrainer()\n",
    "\n",
    "evaluator = ModelEvaluator(model_type='svm',pos_label=1)\n",
    "\n",
    "results = evaluator.cross_validate_oversample_with_confusionmatrix(X_embed_bal,y_bal)"
   ]
  },
  {
   "cell_type": "markdown",
   "id": "6180171f",
   "metadata": {},
   "source": [
    "USE THIS IF YOU NOT USING BERT"
   ]
  },
  {
   "cell_type": "code",
   "execution_count": null,
   "id": "cf2d372e",
   "metadata": {},
   "outputs": [],
   "source": [
    "final_model = trainer.train(X_embed_bal, y_bal)\n",
    "\n",
    "lime_interpreter = LimeTextInterpreter(\n",
    "    model=final_model,\n",
    "    vectorizer=extractor.get_tfidf_vectorizer(),\n",
    "    class_names=['NON ASD', 'ASD']\n",
    ")\n",
    "\n",
    "asd_samples = df[df['label'] == 'ASD'].sample(n=12, random_state=42)\n",
    "non_asd_samples = df[df['label'] == 'NON ASD'].sample(n=12, random_state=42)\n",
    "lime_samples = pd.concat([asd_samples, non_asd_samples]).reset_index(drop=True)\n",
    "\n",
    "lime_interpreter.save_lime_explanation_to_csv(lime_samples,\"../reports/lime_results.csv\")"
   ]
  },
  {
   "cell_type": "code",
   "execution_count": null,
   "id": "bb513db3",
   "metadata": {},
   "outputs": [],
   "source": [
    "final_model = BaselineTrainer('svm').train(X_embed_bal,y_bal)\n",
    "interpreter = ShapInterpreter(model=final_model)\n",
    "sampled_df = df.sample(n=100, random_state=42)\n",
    "texts = sampled_df['clean_text'].tolist()\n",
    "labels = sampled_df['label'].tolist()\n",
    "\n",
    "shap_values = interpreter.explain(texts)\n",
    "interpreter.save_shap_explanations_to_csv(\n",
    "    shap_values=shap_values,\n",
    "    texts=texts,\n",
    "    output_path=\"../reports/shap_results_SVM_oversample+bert.csv\",\n",
    "    true_labels=labels\n",
    ")"
   ]
  },
  {
   "cell_type": "markdown",
   "id": "a33e7b83",
   "metadata": {},
   "source": [
    "LOGISTIC REGRETION WITH 5 FOLD"
   ]
  },
  {
   "cell_type": "code",
   "execution_count": null,
   "id": "6f0cd2fb",
   "metadata": {},
   "outputs": [],
   "source": [
    "trainer = BaselineTrainer()\n",
    "evaluator = ModelEvaluator(pos_label=1)\n",
    "\n",
    "results = evaluator.cross_validate_oversample_with_confusionmatrix(X_embed_bal,y_bal)"
   ]
  },
  {
   "cell_type": "code",
   "execution_count": null,
   "id": "dbf5bb6a",
   "metadata": {},
   "outputs": [],
   "source": [
    "final_model = trainer.train(X, y)\n",
    "\n",
    "lime_interpreter = LimeTextInterpreter(\n",
    "    model=final_model,\n",
    "    vectorizer=extractor.get_tfidf_vectorizer(),\n",
    "    class_names=['NON ASD', 'ASD']\n",
    ")\n",
    "\n",
    "asd_samples = df[df['label'] == 'ASD'].sample(n=12, random_state=42)\n",
    "non_asd_samples = df[df['label'] == 'NON ASD'].sample(n=12, random_state=42)\n",
    "lime_samples = pd.concat([asd_samples, non_asd_samples]).reset_index(drop=True)\n",
    "\n",
    "lime_interpreter.save_lime_explanation_to_csv(lime_samples,\"../reports/lime_results_LOGRES.csv\")"
   ]
  },
  {
   "cell_type": "markdown",
   "id": "5fcfd065",
   "metadata": {},
   "source": [
    "SVM WITH 10 FOLD"
   ]
  },
  {
   "cell_type": "code",
   "execution_count": null,
   "id": "59c1ca05",
   "metadata": {},
   "outputs": [
    {
     "name": "stdout",
     "output_type": "stream",
     "text": [
      "\n",
      "[Oversampled] Fold 1\n",
      "              precision    recall  f1-score   support\n",
      "\n",
      "           0      0.928     0.834     0.879       465\n",
      "           1      0.850     0.935     0.890       465\n",
      "\n",
      "    accuracy                          0.885       930\n",
      "   macro avg      0.889     0.885     0.885       930\n",
      "weighted avg      0.889     0.885     0.885       930\n",
      "\n",
      "Confusion Matrix:\n",
      " [[388  77]\n",
      " [ 30 435]]\n",
      "Confusion Matrix (Fold 1):\n",
      "[[388  77]\n",
      " [ 30 435]]\n",
      "\n",
      "[Oversampled] Fold 2\n",
      "              precision    recall  f1-score   support\n",
      "\n",
      "           0      0.933     0.804     0.864       465\n",
      "           1      0.828     0.942     0.881       465\n",
      "\n",
      "    accuracy                          0.873       930\n",
      "   macro avg      0.880     0.873     0.873       930\n",
      "weighted avg      0.880     0.873     0.873       930\n",
      "\n",
      "Confusion Matrix:\n",
      " [[374  91]\n",
      " [ 27 438]]\n",
      "Confusion Matrix (Fold 2):\n",
      "[[374  91]\n",
      " [ 27 438]]\n",
      "\n",
      "[Oversampled] Fold 3\n",
      "              precision    recall  f1-score   support\n",
      "\n",
      "           0      0.921     0.847     0.882       465\n",
      "           1      0.859     0.927     0.891       465\n",
      "\n",
      "    accuracy                          0.887       930\n",
      "   macro avg      0.890     0.887     0.887       930\n",
      "weighted avg      0.890     0.887     0.887       930\n",
      "\n",
      "Confusion Matrix:\n",
      " [[394  71]\n",
      " [ 34 431]]\n",
      "Confusion Matrix (Fold 3):\n",
      "[[394  71]\n",
      " [ 34 431]]\n",
      "\n",
      "[Oversampled] Fold 4\n",
      "              precision    recall  f1-score   support\n",
      "\n",
      "           0      0.899     0.826     0.861       465\n",
      "           1      0.839     0.908     0.872       465\n",
      "\n",
      "    accuracy                          0.867       930\n",
      "   macro avg      0.869     0.867     0.866       930\n",
      "weighted avg      0.869     0.867     0.866       930\n",
      "\n",
      "Confusion Matrix:\n",
      " [[384  81]\n",
      " [ 43 422]]\n",
      "Confusion Matrix (Fold 4):\n",
      "[[384  81]\n",
      " [ 43 422]]\n",
      "\n",
      "[Oversampled] Fold 5\n",
      "              precision    recall  f1-score   support\n",
      "\n",
      "           0      0.906     0.852     0.878       465\n",
      "           1      0.860     0.912     0.885       465\n",
      "\n",
      "    accuracy                          0.882       930\n",
      "   macro avg      0.883     0.882     0.882       930\n",
      "weighted avg      0.883     0.882     0.882       930\n",
      "\n",
      "Confusion Matrix:\n",
      " [[396  69]\n",
      " [ 41 424]]\n",
      "Confusion Matrix (Fold 5):\n",
      "[[396  69]\n",
      " [ 41 424]]\n",
      "\n",
      "[Oversampled] Fold 6\n",
      "              precision    recall  f1-score   support\n",
      "\n",
      "           0      0.921     0.781     0.845       465\n",
      "           1      0.810     0.933     0.867       465\n",
      "\n",
      "    accuracy                          0.857       930\n",
      "   macro avg      0.866     0.857     0.856       930\n",
      "weighted avg      0.866     0.857     0.856       930\n",
      "\n",
      "Confusion Matrix:\n",
      " [[363 102]\n",
      " [ 31 434]]\n",
      "Confusion Matrix (Fold 6):\n",
      "[[363 102]\n",
      " [ 31 434]]\n",
      "\n",
      "[Oversampled] Fold 7\n",
      "              precision    recall  f1-score   support\n",
      "\n",
      "           0      0.912     0.826     0.867       465\n",
      "           1      0.841     0.920     0.879       464\n",
      "\n",
      "    accuracy                          0.873       929\n",
      "   macro avg      0.876     0.873     0.873       929\n",
      "weighted avg      0.876     0.873     0.873       929\n",
      "\n",
      "Confusion Matrix:\n",
      " [[384  81]\n",
      " [ 37 427]]\n",
      "Confusion Matrix (Fold 7):\n",
      "[[384  81]\n",
      " [ 37 427]]\n",
      "\n",
      "[Oversampled] Fold 8\n",
      "              precision    recall  f1-score   support\n",
      "\n",
      "           0      0.913     0.834     0.872       465\n",
      "           1      0.847     0.920     0.882       464\n",
      "\n",
      "    accuracy                          0.877       929\n",
      "   macro avg      0.880     0.877     0.877       929\n",
      "weighted avg      0.880     0.877     0.877       929\n",
      "\n",
      "Confusion Matrix:\n",
      " [[388  77]\n",
      " [ 37 427]]\n",
      "Confusion Matrix (Fold 8):\n",
      "[[388  77]\n",
      " [ 37 427]]\n",
      "\n",
      "[Oversampled] Fold 9\n",
      "              precision    recall  f1-score   support\n",
      "\n",
      "           0      0.919     0.828     0.871       464\n",
      "           1      0.843     0.927     0.883       465\n",
      "\n",
      "    accuracy                          0.877       929\n",
      "   macro avg      0.881     0.877     0.877       929\n",
      "weighted avg      0.881     0.877     0.877       929\n",
      "\n",
      "Confusion Matrix:\n",
      " [[384  80]\n",
      " [ 34 431]]\n",
      "Confusion Matrix (Fold 9):\n",
      "[[384  80]\n",
      " [ 34 431]]\n",
      "\n",
      "[Oversampled] Fold 10\n"
     ]
    }
   ],
   "source": [
    "trainer = BaselineTrainer()\n",
    "evaluator = ModelEvaluator(model_type='svm', n_splits= 10, random_state=32,pos_label=1)\n",
    "\n",
    "results = evaluator.cross_validate_oversample_with_confusionmatrix(X_embed_bal,y_bal)"
   ]
  },
  {
   "cell_type": "code",
   "execution_count": null,
   "id": "f5a547db",
   "metadata": {},
   "outputs": [],
   "source": [
    "final_model = trainer.train(X, y)\n",
    "\n",
    "lime_interpreter = LimeTextInterpreter(\n",
    "    model=final_model,\n",
    "    vectorizer=extractor.get_tfidf_vectorizer(),\n",
    "    class_names=['NON ASD', 'ASD']\n",
    ")\n",
    "\n",
    "asd_samples = df[df['label'] == 'ASD'].sample(n=12, random_state=42)\n",
    "non_asd_samples = df[df['label'] == 'NON ASD'].sample(n=12, random_state=42)\n",
    "lime_samples = pd.concat([asd_samples, non_asd_samples]).reset_index(drop=True)\n",
    "\n",
    "lime_interpreter.save_lime_explanation_to_csv(lime_samples,\"../reports/lime_results_SVM10FOLD.csv\")"
   ]
  },
  {
   "cell_type": "code",
   "execution_count": null,
   "id": "ce509fde",
   "metadata": {},
   "outputs": [],
   "source": [
    "final_model = BaselineTrainer('svm').train(X,y)\n",
    "interpreter = ShapInterpreter(model=final_model)\n",
    "sampled_df = df.sample(n=100, random_state=42)\n",
    "texts = sampled_df['clean_text'].tolist()\n",
    "labels = sampled_df['label'].tolist()\n",
    "\n",
    "shap_values = interpreter.explain(texts)\n",
    "interpreter.save_shap_explanations_to_csv(\n",
    "    shap_values=shap_values,\n",
    "    texts=texts,\n",
    "    output_path=\"../reports/shap_results_SVM_10_fold.csv\",\n",
    "    true_labels=labels\n",
    ")"
   ]
  },
  {
   "cell_type": "markdown",
   "id": "ac0fb88c",
   "metadata": {},
   "source": [
    "LINEAR REGRETION WITH 10 FOLD"
   ]
  },
  {
   "cell_type": "code",
   "execution_count": null,
   "id": "a98b0d88",
   "metadata": {},
   "outputs": [],
   "source": [
    "trainer = BaselineTrainer()\n",
    "evaluator = ModelEvaluator(n_splits= 10, random_state=32,pos_label=1)\n",
    "\n",
    "results = evaluator.cross_validate_oversample_with_confusionmatrix(X_embed_bal,y_bal)"
   ]
  },
  {
   "cell_type": "code",
   "execution_count": null,
   "id": "74c09c7d",
   "metadata": {},
   "outputs": [],
   "source": [
    "final_model = BaselineTrainer('svm').train(X,y)\n",
    "interpreter = ShapInterpreter(model=final_model)\n",
    "sampled_df = df.sample(n=100, random_state=42)\n",
    "texts = sampled_df['clean_text'].tolist()\n",
    "labels = sampled_df['label'].tolist()\n",
    "\n",
    "shap_values = interpreter.explain(texts)\n",
    "interpreter.save_shap_explanations_to_csv(\n",
    "    shap_values=shap_values,\n",
    "    texts=texts,\n",
    "    output_path=\"../reports/shap_results_Logres_10_fold.csv\",\n",
    "    true_labels=labels\n",
    ")\n"
   ]
  },
  {
   "cell_type": "code",
   "execution_count": null,
   "id": "365ce051",
   "metadata": {},
   "outputs": [],
   "source": [
    "interpreter.visualize(shap_values= shap_values)"
   ]
  },
  {
   "cell_type": "markdown",
   "id": "502c494a",
   "metadata": {},
   "source": [
    "FUSION"
   ]
  },
  {
   "cell_type": "code",
   "execution_count": null,
   "id": "c9582256",
   "metadata": {},
   "outputs": [],
   "source": [
    "extractor = FeatureExtractor()\n",
    "X = extractor.extract_fused_features_bert(df)\n",
    "y = (df['label'].str.upper().str.strip() == 'ASD').astype(int).values\n",
    "ling_cols = extractor.linguistic_cols\n",
    "X_ling = df[ling_cols].values\n",
    "oversampler = EmbeddingOversampler()\n",
    "X_embed_bal, X_ling_bal, y_bal = oversampler.oversample(X, X_ling, y)\n",
    "\n",
    "print(X_embed_bal.shape, y.shape)"
   ]
  },
  {
   "cell_type": "markdown",
   "id": "ee707186",
   "metadata": {},
   "source": [
    "Fusion with tfidf"
   ]
  },
  {
   "cell_type": "code",
   "execution_count": null,
   "id": "e0bcf2c0",
   "metadata": {},
   "outputs": [],
   "source": [
    "extractor = FeatureExtractor()\n",
    "X = extractor.extract_fused_features_tfidf(df, fit=True)\n",
    "y = (df['label'].str.upper().str.strip() == 'ASD').astype(int).values\n",
    "ling_cols = extractor.linguistic_cols\n",
    "X_ling = df[ling_cols].values\n",
    "oversampler = EmbeddingOversampler()\n",
    "X_embed_bal, X_ling_bal, y_bal = oversampler.oversample(X, X_ling, y)\n",
    "\n",
    "print(X_embed_bal.shape, y.shape)"
   ]
  },
  {
   "cell_type": "code",
   "execution_count": null,
   "id": "8d94b1e4",
   "metadata": {},
   "outputs": [],
   "source": [
    "evaluator = ModelEvaluator(model_type='svm', n_splits= 10, random_state=32)\n",
    "results = evaluator.cross_validate_with_confusionmatrix(X, y)\n"
   ]
  },
  {
   "cell_type": "markdown",
   "id": "948f670c",
   "metadata": {},
   "source": [
    "Testing Model"
   ]
  },
  {
   "cell_type": "code",
   "execution_count": null,
   "id": "5833bf94",
   "metadata": {},
   "outputs": [],
   "source": [
    "trainer = BaselineTrainer(model_type='svm')\n",
    "model = trainer.train(X_embed_bal, y_bal)\n",
    "\n",
    "new_text = \"Apakah kamu suddah makan?\"\n",
    "clean_text = text_preprocessor.preprocess(new_text)\n",
    "X_new = extractor.encode_series_bert([clean_text])\n",
    "predicted_label = model.predict(X_new)[0]\n",
    "print(f\"Predicted label: {predicted_label}\")"
   ]
  },
  {
   "cell_type": "code",
   "execution_count": null,
   "id": "5e0bd345",
   "metadata": {},
   "outputs": [],
   "source": [
    "new_text = \"Apakah kamu sudah makan?\"\n",
    "clean_text = text_preprocessor.preprocess(new_text)\n",
    "X_new = extractor.encode_series_bert([clean_text])\n",
    "predicted_label = model.predict(X_new)[0]\n",
    "print(f\"Predicted label: {predicted_label}\")"
   ]
  },
  {
   "cell_type": "code",
   "execution_count": 1,
   "id": "5137731a",
   "metadata": {},
   "outputs": [
    {
     "name": "stdout",
     "output_type": "stream",
     "text": [
      "0.8721 0.8775999999999999 0.8425 0.9160999999999999\n"
     ]
    }
   ],
   "source": [
    "accuracy   = [0.877, 0.870, 0.891, 0.863, 0.875, 0.856, 0.867, 0.861, 0.889, 0.872]\n",
    "precision  = [0.839, 0.832, 0.868, 0.838, 0.857, 0.811, 0.836, 0.836, 0.866, 0.842]\n",
    "recall     = [0.933, 0.927, 0.923, 0.901, 0.901, 0.929, 0.912, 0.899, 0.920, 0.916]\n",
    "f1_scores  = [0.884, 0.877, 0.895, 0.868, 0.878, 0.866, 0.872, 0.866, 0.893, 0.877]\n",
    "folds = [f\"Fold {i+1}\" for i in range(10)]\n",
    "\n",
    "mean_acc = sum(accuracy)/len(accuracy)\n",
    "mean_prec = sum(precision)/len(precision)\n",
    "mean_rec = sum(recall)/len(recall)\n",
    "mean_f1 = sum(f1_scores)/len(f1_scores)\n",
    "\n",
    "print (mean_acc, mean_f1, mean_prec, mean_rec)"
   ]
  },
  {
   "cell_type": "markdown",
   "id": "0d71f328",
   "metadata": {},
   "source": [
    "Bar plot"
   ]
  },
  {
   "cell_type": "code",
   "execution_count": null,
   "id": "44aeb6cb",
   "metadata": {},
   "outputs": [],
   "source": [
    "colors = ['green' if score > mean_f1 else 'skyblue' for score in f1_scores]\n",
    "plt.figure(figsize=(10, 6))\n",
    "bars = plt.bar(folds, f1_scores, color=colors)\n",
    "plt.axhline(y=mean_f1, color='red', linestyle='--', label=f'Mean F1-score ({mean_f1:.3f})')\n",
    "plt.title('F1-Score per Fold (Oversampled)')\n",
    "plt.xlabel('Fold')\n",
    "plt.ylabel('F1-score')\n",
    "plt.ylim(0.8, 0.92)\n",
    "plt.legend()\n",
    "plt.tight_layout()\n",
    "plt.show()"
   ]
  },
  {
   "cell_type": "markdown",
   "id": "767a0cbd",
   "metadata": {},
   "source": [
    "Line plot"
   ]
  },
  {
   "cell_type": "code",
   "execution_count": null,
   "id": "f473f8fb",
   "metadata": {},
   "outputs": [],
   "source": [
    "plt.figure(figsize=(12, 6))\n",
    "plt.plot(folds, accuracy, label='Accuracy', marker='o')\n",
    "plt.plot(folds, precision, label='Precision', marker='o')\n",
    "plt.plot(folds, recall, label='Recall', marker='o')\n",
    "plt.plot(folds, f1_scores, label='F1-score', marker='o')\n",
    "plt.title('Cross-Validation Metrics per Fold')\n",
    "plt.xlabel('Fold')\n",
    "plt.ylabel('Score')\n",
    "plt.ylim(0.8, 1)\n",
    "plt.legend()\n",
    "plt.grid(True)\n",
    "plt.tight_layout()\n",
    "plt.show()"
   ]
  },
  {
   "cell_type": "markdown",
   "id": "a350d9cd",
   "metadata": {},
   "source": [
    "Confusion Matrix"
   ]
  },
  {
   "cell_type": "code",
   "execution_count": null,
   "id": "9b3c93a6",
   "metadata": {},
   "outputs": [],
   "source": [
    "conf_matrices = [\n",
    "  np.array([[382,  83], [ 31, 434]]),  # Fold 1\n",
    "    np.array([[378,  87], [ 34, 431]]),  # Fold 2\n",
    "    np.array([[400,  65], [ 36, 429]]),  # Fold 3\n",
    "    np.array([[384,  81], [ 46, 419]]),  # Fold 4\n",
    "    np.array([[395,  70], [ 46, 419]]),  # Fold 5\n",
    "    np.array([[364, 101], [ 33, 432]]),  # Fold 6\n",
    "    np.array([[382,  83], [ 41, 423]]),  # Fold 7\n",
    "    np.array([[383,  82], [ 47, 417]]),  # Fold 8\n",
    "    np.array([[398,  66], [ 37, 428]]),  # Fold 9\n",
    "    np.array([[384,  80], [ 39, 426]])   # Fold 10\n",
    "]\n",
    "agg_conf_matrix = sum(conf_matrices)\n",
    "print(\"Aggregated Confusion Matrix:\\n\", agg_conf_matrix)"
   ]
  },
  {
   "cell_type": "code",
   "execution_count": null,
   "id": "27c094df",
   "metadata": {},
   "outputs": [],
   "source": [
    "plt.figure(figsize=(6, 5))\n",
    "sns.heatmap(agg_conf_matrix, annot=True, fmt='d', cmap='Blues',\n",
    "            xticklabels=[\"Predicted 0\", \"Predicted 1\"],\n",
    "            yticklabels=[\"Actual 0\", \"Actual 1\"])\n",
    "plt.title(\"Support vector machine (10-Fold Oversampled)\")\n",
    "plt.xlabel(\"Predicted Label\")\n",
    "plt.ylabel(\"True Label\")\n",
    "plt.tight_layout()\n",
    "plt.show()"
   ]
  }
 ],
 "metadata": {
  "kernelspec": {
   "display_name": "base",
   "language": "python",
   "name": "python3"
  },
  "language_info": {
   "codemirror_mode": {
    "name": "ipython",
    "version": 3
   },
   "file_extension": ".py",
   "mimetype": "text/x-python",
   "name": "python",
   "nbconvert_exporter": "python",
   "pygments_lexer": "ipython3",
   "version": "3.12.7"
  }
 },
 "nbformat": 4,
 "nbformat_minor": 5
}
